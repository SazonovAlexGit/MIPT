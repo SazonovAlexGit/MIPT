{
  "cells": [
    {
      "cell_type": "markdown",
      "metadata": {
        "id": "view-in-github",
        "colab_type": "text"
      },
      "source": [
        "<a href=\"https://colab.research.google.com/github/SazonovAlexGit/MIPT/blob/main/Pandas_HW2.ipynb\" target=\"_parent\"><img src=\"https://colab.research.google.com/assets/colab-badge.svg\" alt=\"Open In Colab\"/></a>"
      ]
    },
    {
      "cell_type": "code",
      "execution_count": null,
      "id": "b0e413dd",
      "metadata": {
        "id": "b0e413dd"
      },
      "outputs": [],
      "source": [
        "import pandas as pd"
      ]
    },
    {
      "cell_type": "markdown",
      "id": "a79f2165",
      "metadata": {
        "id": "a79f2165"
      },
      "source": [
        "### 0. Загружаем данные, меняем типы данных:"
      ]
    },
    {
      "cell_type": "code",
      "execution_count": 55,
      "id": "ac449529",
      "metadata": {
        "id": "ac449529"
      },
      "outputs": [],
      "source": [
        "path_to_file = '/content/sample_data/'\n",
        "train = pd.read_csv(path_to_file+'train.csv', sep=',', index_col=0,\n",
        "                       dtype = {'row_id': 'int64', 'timestamp': 'int64', 'user_id': 'int32', 'content_id': 'int16', \n",
        "                                'content_type_id': 'int8', 'task_container_id': 'int16', 'user_answer': 'int8', \n",
        "                                'answered_correctly': 'int8', 'prior_question_elapsed_time': 'float32', \n",
        "                                'prior_question_had_explanation': 'boolean'\n",
        "                               }\n",
        "                      )"
      ]
    },
    {
      "cell_type": "code",
      "execution_count": null,
      "id": "0e59a2c0",
      "metadata": {
        "id": "0e59a2c0",
        "outputId": "159ae42d-6d39-4fab-a173-bd89d7f0648b"
      },
      "outputs": [
        {
          "data": {
            "text/html": [
              "<div>\n",
              "<style scoped>\n",
              "    .dataframe tbody tr th:only-of-type {\n",
              "        vertical-align: middle;\n",
              "    }\n",
              "\n",
              "    .dataframe tbody tr th {\n",
              "        vertical-align: top;\n",
              "    }\n",
              "\n",
              "    .dataframe thead th {\n",
              "        text-align: right;\n",
              "    }\n",
              "</style>\n",
              "<table border=\"1\" class=\"dataframe\">\n",
              "  <thead>\n",
              "    <tr style=\"text-align: right;\">\n",
              "      <th></th>\n",
              "      <th>timestamp</th>\n",
              "      <th>user_id</th>\n",
              "      <th>content_id</th>\n",
              "      <th>content_type_id</th>\n",
              "      <th>task_container_id</th>\n",
              "      <th>user_answer</th>\n",
              "      <th>answered_correctly</th>\n",
              "      <th>prior_question_elapsed_time</th>\n",
              "      <th>prior_question_had_explanation</th>\n",
              "    </tr>\n",
              "    <tr>\n",
              "      <th>row_id</th>\n",
              "      <th></th>\n",
              "      <th></th>\n",
              "      <th></th>\n",
              "      <th></th>\n",
              "      <th></th>\n",
              "      <th></th>\n",
              "      <th></th>\n",
              "      <th></th>\n",
              "      <th></th>\n",
              "    </tr>\n",
              "  </thead>\n",
              "  <tbody>\n",
              "    <tr>\n",
              "      <th>0</th>\n",
              "      <td>0</td>\n",
              "      <td>115</td>\n",
              "      <td>5692</td>\n",
              "      <td>0</td>\n",
              "      <td>1</td>\n",
              "      <td>3</td>\n",
              "      <td>1</td>\n",
              "      <td>NaN</td>\n",
              "      <td>&lt;NA&gt;</td>\n",
              "    </tr>\n",
              "    <tr>\n",
              "      <th>1</th>\n",
              "      <td>56943</td>\n",
              "      <td>115</td>\n",
              "      <td>5716</td>\n",
              "      <td>0</td>\n",
              "      <td>2</td>\n",
              "      <td>2</td>\n",
              "      <td>1</td>\n",
              "      <td>37000.0</td>\n",
              "      <td>False</td>\n",
              "    </tr>\n",
              "    <tr>\n",
              "      <th>2</th>\n",
              "      <td>118363</td>\n",
              "      <td>115</td>\n",
              "      <td>128</td>\n",
              "      <td>0</td>\n",
              "      <td>0</td>\n",
              "      <td>0</td>\n",
              "      <td>1</td>\n",
              "      <td>55000.0</td>\n",
              "      <td>False</td>\n",
              "    </tr>\n",
              "    <tr>\n",
              "      <th>3</th>\n",
              "      <td>131167</td>\n",
              "      <td>115</td>\n",
              "      <td>7860</td>\n",
              "      <td>0</td>\n",
              "      <td>3</td>\n",
              "      <td>0</td>\n",
              "      <td>1</td>\n",
              "      <td>19000.0</td>\n",
              "      <td>False</td>\n",
              "    </tr>\n",
              "    <tr>\n",
              "      <th>4</th>\n",
              "      <td>137965</td>\n",
              "      <td>115</td>\n",
              "      <td>7922</td>\n",
              "      <td>0</td>\n",
              "      <td>4</td>\n",
              "      <td>1</td>\n",
              "      <td>1</td>\n",
              "      <td>11000.0</td>\n",
              "      <td>False</td>\n",
              "    </tr>\n",
              "  </tbody>\n",
              "</table>\n",
              "</div>"
            ],
            "text/plain": [
              "        timestamp  user_id  content_id  content_type_id  task_container_id  \\\n",
              "row_id                                                                       \n",
              "0               0      115        5692                0                  1   \n",
              "1           56943      115        5716                0                  2   \n",
              "2          118363      115         128                0                  0   \n",
              "3          131167      115        7860                0                  3   \n",
              "4          137965      115        7922                0                  4   \n",
              "\n",
              "        user_answer  answered_correctly  prior_question_elapsed_time  \\\n",
              "row_id                                                                 \n",
              "0                 3                   1                          NaN   \n",
              "1                 2                   1                      37000.0   \n",
              "2                 0                   1                      55000.0   \n",
              "3                 0                   1                      19000.0   \n",
              "4                 1                   1                      11000.0   \n",
              "\n",
              "        prior_question_had_explanation  \n",
              "row_id                                  \n",
              "0                                 <NA>  \n",
              "1                                False  \n",
              "2                                False  \n",
              "3                                False  \n",
              "4                                False  "
            ]
          },
          "execution_count": 3,
          "metadata": {},
          "output_type": "execute_result"
        }
      ],
      "source": [
        "train.head()"
      ]
    },
    {
      "cell_type": "code",
      "execution_count": 14,
      "id": "6eac65b0",
      "metadata": {
        "id": "6eac65b0",
        "outputId": "21ddbe24-02f7-46d1-f938-8d9ca665a18d",
        "colab": {
          "base_uri": "https://localhost:8080/"
        }
      },
      "outputs": [
        {
          "output_type": "stream",
          "name": "stdout",
          "text": [
            "<class 'pandas.core.frame.DataFrame'>\n",
            "Int64Index: 1048575 entries, 0 to 1048574\n",
            "Data columns (total 9 columns):\n",
            " #   Column                          Non-Null Count    Dtype  \n",
            "---  ------                          --------------    -----  \n",
            " 0   timestamp                       1048575 non-null  int64  \n",
            " 1   user_id                         1048575 non-null  int32  \n",
            " 2   content_id                      1048575 non-null  int16  \n",
            " 3   content_type_id                 1048575 non-null  int8   \n",
            " 4   task_container_id               1048575 non-null  int16  \n",
            " 5   user_answer                     1048575 non-null  int8   \n",
            " 6   answered_correctly              1048575 non-null  int8   \n",
            " 7   prior_question_elapsed_time     1023681 non-null  float32\n",
            " 8   prior_question_had_explanation  1048575 non-null  int8   \n",
            "dtypes: float32(1), int16(2), int32(1), int64(1), int8(4)\n",
            "memory usage: 32.0 MB\n"
          ]
        }
      ],
      "source": [
        "train.info()"
      ]
    },
    {
      "cell_type": "code",
      "execution_count": 13,
      "id": "67e76e6c",
      "metadata": {
        "id": "67e76e6c"
      },
      "outputs": [],
      "source": [
        "\"\"\"\n",
        "Для удобства анализа приведем последний столбец к числовому типу\n",
        "Сначала переведем пустые значения в False (в целях анализа эти значения равнозначны)\n",
        "Затем конвертируем в числовой формат\n",
        "\"\"\"\n",
        "for i in range(train.shape[0]):\n",
        "    if pd.isna(train['prior_question_had_explanation'][i]) == True:\n",
        "        train['prior_question_had_explanation'][i] = False\n",
        "train['prior_question_had_explanation'] = train['prior_question_had_explanation'].astype('int8')"
      ]
    },
    {
      "cell_type": "code",
      "execution_count": 15,
      "id": "1a84f3a1",
      "metadata": {
        "id": "1a84f3a1",
        "outputId": "cc90d245-44fd-4ebc-fce0-dfb34df91662",
        "colab": {
          "base_uri": "https://localhost:8080/"
        }
      },
      "outputs": [
        {
          "output_type": "stream",
          "name": "stdout",
          "text": [
            "<class 'pandas.core.frame.DataFrame'>\n",
            "Int64Index: 1048575 entries, 0 to 1048574\n",
            "Data columns (total 9 columns):\n",
            " #   Column                          Non-Null Count    Dtype  \n",
            "---  ------                          --------------    -----  \n",
            " 0   timestamp                       1048575 non-null  int64  \n",
            " 1   user_id                         1048575 non-null  int32  \n",
            " 2   content_id                      1048575 non-null  int16  \n",
            " 3   content_type_id                 1048575 non-null  int8   \n",
            " 4   task_container_id               1048575 non-null  int16  \n",
            " 5   user_answer                     1048575 non-null  int8   \n",
            " 6   answered_correctly              1048575 non-null  int8   \n",
            " 7   prior_question_elapsed_time     1023681 non-null  float32\n",
            " 8   prior_question_had_explanation  1048575 non-null  int8   \n",
            "dtypes: float32(1), int16(2), int32(1), int64(1), int8(4)\n",
            "memory usage: 32.0 MB\n"
          ]
        }
      ],
      "source": [
        "train.info()"
      ]
    },
    {
      "cell_type": "markdown",
      "id": "3171ce12",
      "metadata": {
        "id": "3171ce12"
      },
      "source": [
        "## 1. Исследуем данные Train\n"
      ]
    },
    {
      "cell_type": "code",
      "execution_count": 16,
      "id": "399e9eb7",
      "metadata": {
        "id": "399e9eb7",
        "outputId": "886386e3-b5f9-4264-fc33-3abc25ad6e7d",
        "colab": {
          "base_uri": "https://localhost:8080/",
          "height": 328
        }
      },
      "outputs": [
        {
          "output_type": "display_data",
          "data": {
            "text/plain": [
              "                      Column_Name  Num_Unique     Type\n",
              "0                 content_type_id           2     int8\n",
              "1  prior_question_had_explanation           2     int8\n",
              "2              answered_correctly           3     int8\n",
              "3                     user_answer           5     int8\n",
              "4     prior_question_elapsed_time        1688  float32\n",
              "5                         user_id        3995    int32\n",
              "6               task_container_id        7740    int16\n",
              "7                      content_id       13415    int16\n",
              "8                       timestamp      806066    int64"
            ],
            "text/html": [
              "\n",
              "  <div id=\"df-a480c047-0a8b-42be-a8cb-011c03468ab1\">\n",
              "    <div class=\"colab-df-container\">\n",
              "      <div>\n",
              "<style scoped>\n",
              "    .dataframe tbody tr th:only-of-type {\n",
              "        vertical-align: middle;\n",
              "    }\n",
              "\n",
              "    .dataframe tbody tr th {\n",
              "        vertical-align: top;\n",
              "    }\n",
              "\n",
              "    .dataframe thead th {\n",
              "        text-align: right;\n",
              "    }\n",
              "</style>\n",
              "<table border=\"1\" class=\"dataframe\">\n",
              "  <thead>\n",
              "    <tr style=\"text-align: right;\">\n",
              "      <th></th>\n",
              "      <th>Column_Name</th>\n",
              "      <th>Num_Unique</th>\n",
              "      <th>Type</th>\n",
              "    </tr>\n",
              "  </thead>\n",
              "  <tbody>\n",
              "    <tr>\n",
              "      <th>0</th>\n",
              "      <td>content_type_id</td>\n",
              "      <td>2</td>\n",
              "      <td>int8</td>\n",
              "    </tr>\n",
              "    <tr>\n",
              "      <th>1</th>\n",
              "      <td>prior_question_had_explanation</td>\n",
              "      <td>2</td>\n",
              "      <td>int8</td>\n",
              "    </tr>\n",
              "    <tr>\n",
              "      <th>2</th>\n",
              "      <td>answered_correctly</td>\n",
              "      <td>3</td>\n",
              "      <td>int8</td>\n",
              "    </tr>\n",
              "    <tr>\n",
              "      <th>3</th>\n",
              "      <td>user_answer</td>\n",
              "      <td>5</td>\n",
              "      <td>int8</td>\n",
              "    </tr>\n",
              "    <tr>\n",
              "      <th>4</th>\n",
              "      <td>prior_question_elapsed_time</td>\n",
              "      <td>1688</td>\n",
              "      <td>float32</td>\n",
              "    </tr>\n",
              "    <tr>\n",
              "      <th>5</th>\n",
              "      <td>user_id</td>\n",
              "      <td>3995</td>\n",
              "      <td>int32</td>\n",
              "    </tr>\n",
              "    <tr>\n",
              "      <th>6</th>\n",
              "      <td>task_container_id</td>\n",
              "      <td>7740</td>\n",
              "      <td>int16</td>\n",
              "    </tr>\n",
              "    <tr>\n",
              "      <th>7</th>\n",
              "      <td>content_id</td>\n",
              "      <td>13415</td>\n",
              "      <td>int16</td>\n",
              "    </tr>\n",
              "    <tr>\n",
              "      <th>8</th>\n",
              "      <td>timestamp</td>\n",
              "      <td>806066</td>\n",
              "      <td>int64</td>\n",
              "    </tr>\n",
              "  </tbody>\n",
              "</table>\n",
              "</div>\n",
              "      <button class=\"colab-df-convert\" onclick=\"convertToInteractive('df-a480c047-0a8b-42be-a8cb-011c03468ab1')\"\n",
              "              title=\"Convert this dataframe to an interactive table.\"\n",
              "              style=\"display:none;\">\n",
              "        \n",
              "  <svg xmlns=\"http://www.w3.org/2000/svg\" height=\"24px\"viewBox=\"0 0 24 24\"\n",
              "       width=\"24px\">\n",
              "    <path d=\"M0 0h24v24H0V0z\" fill=\"none\"/>\n",
              "    <path d=\"M18.56 5.44l.94 2.06.94-2.06 2.06-.94-2.06-.94-.94-2.06-.94 2.06-2.06.94zm-11 1L8.5 8.5l.94-2.06 2.06-.94-2.06-.94L8.5 2.5l-.94 2.06-2.06.94zm10 10l.94 2.06.94-2.06 2.06-.94-2.06-.94-.94-2.06-.94 2.06-2.06.94z\"/><path d=\"M17.41 7.96l-1.37-1.37c-.4-.4-.92-.59-1.43-.59-.52 0-1.04.2-1.43.59L10.3 9.45l-7.72 7.72c-.78.78-.78 2.05 0 2.83L4 21.41c.39.39.9.59 1.41.59.51 0 1.02-.2 1.41-.59l7.78-7.78 2.81-2.81c.8-.78.8-2.07 0-2.86zM5.41 20L4 18.59l7.72-7.72 1.47 1.35L5.41 20z\"/>\n",
              "  </svg>\n",
              "      </button>\n",
              "      \n",
              "  <style>\n",
              "    .colab-df-container {\n",
              "      display:flex;\n",
              "      flex-wrap:wrap;\n",
              "      gap: 12px;\n",
              "    }\n",
              "\n",
              "    .colab-df-convert {\n",
              "      background-color: #E8F0FE;\n",
              "      border: none;\n",
              "      border-radius: 50%;\n",
              "      cursor: pointer;\n",
              "      display: none;\n",
              "      fill: #1967D2;\n",
              "      height: 32px;\n",
              "      padding: 0 0 0 0;\n",
              "      width: 32px;\n",
              "    }\n",
              "\n",
              "    .colab-df-convert:hover {\n",
              "      background-color: #E2EBFA;\n",
              "      box-shadow: 0px 1px 2px rgba(60, 64, 67, 0.3), 0px 1px 3px 1px rgba(60, 64, 67, 0.15);\n",
              "      fill: #174EA6;\n",
              "    }\n",
              "\n",
              "    [theme=dark] .colab-df-convert {\n",
              "      background-color: #3B4455;\n",
              "      fill: #D2E3FC;\n",
              "    }\n",
              "\n",
              "    [theme=dark] .colab-df-convert:hover {\n",
              "      background-color: #434B5C;\n",
              "      box-shadow: 0px 1px 3px 1px rgba(0, 0, 0, 0.15);\n",
              "      filter: drop-shadow(0px 1px 2px rgba(0, 0, 0, 0.3));\n",
              "      fill: #FFFFFF;\n",
              "    }\n",
              "  </style>\n",
              "\n",
              "      <script>\n",
              "        const buttonEl =\n",
              "          document.querySelector('#df-a480c047-0a8b-42be-a8cb-011c03468ab1 button.colab-df-convert');\n",
              "        buttonEl.style.display =\n",
              "          google.colab.kernel.accessAllowed ? 'block' : 'none';\n",
              "\n",
              "        async function convertToInteractive(key) {\n",
              "          const element = document.querySelector('#df-a480c047-0a8b-42be-a8cb-011c03468ab1');\n",
              "          const dataTable =\n",
              "            await google.colab.kernel.invokeFunction('convertToInteractive',\n",
              "                                                     [key], {});\n",
              "          if (!dataTable) return;\n",
              "\n",
              "          const docLinkHtml = 'Like what you see? Visit the ' +\n",
              "            '<a target=\"_blank\" href=https://colab.research.google.com/notebooks/data_table.ipynb>data table notebook</a>'\n",
              "            + ' to learn more about interactive tables.';\n",
              "          element.innerHTML = '';\n",
              "          dataTable['output_type'] = 'display_data';\n",
              "          await google.colab.output.renderOutput(dataTable, element);\n",
              "          const docLink = document.createElement('div');\n",
              "          docLink.innerHTML = docLinkHtml;\n",
              "          element.appendChild(docLink);\n",
              "        }\n",
              "      </script>\n",
              "    </div>\n",
              "  </div>\n",
              "  "
            ]
          },
          "metadata": {}
        }
      ],
      "source": [
        "\"\"\"\n",
        "Исследуем кол-во уникальных значений для разных колонок\n",
        "\"\"\"\n",
        "unique_list = []\n",
        "for col in train.columns:\n",
        "    item = (col, train[col].nunique(), train[col].dtype)\n",
        "    unique_list.append(item)\n",
        "unique_counts = pd.DataFrame(unique_list,\n",
        "                             columns=['Column_Name', 'Num_Unique', 'Type']\n",
        "                            ).sort_values(by='Num_Unique',  ignore_index=True)\n",
        "display(unique_counts)"
      ]
    },
    {
      "cell_type": "code",
      "execution_count": 17,
      "id": "4ef163b0",
      "metadata": {
        "id": "4ef163b0",
        "outputId": "8cba50bd-65c4-4afe-a1ef-a7e7f2b98fd5",
        "colab": {
          "base_uri": "https://localhost:8080/"
        }
      },
      "outputs": [
        {
          "output_type": "execute_result",
          "data": {
            "text/plain": [
              "20909"
            ]
          },
          "metadata": {},
          "execution_count": 17
        }
      ],
      "source": [
        "\"\"\"\n",
        "Данные с небольшим кол-вом уникальных значений можно исследовать дополнительно для корректной категоризации\n",
        "Начнем с типов активности: 0 - вопрос(ы), 1 - лекция\n",
        "\"\"\"\n",
        "train['content_type_id'].value_counts(normalize=True) \n",
        "train['content_type_id'].value_counts()[0] \n",
        "train['content_type_id'].value_counts()[1] \n",
        "\n",
        "# 98% активности студентов приходится ответы на вопросы:\n",
        "# общее кол-во ответов на вопросы - 99271300\n",
        "# общее кол-во просмотров лекций - 1959032"
      ]
    },
    {
      "cell_type": "code",
      "execution_count": 18,
      "id": "5aa2b27a",
      "metadata": {
        "id": "5aa2b27a",
        "colab": {
          "base_uri": "https://localhost:8080/"
        },
        "outputId": "20f012e9-8b07-4998-bed5-c67f5584f8f7"
      },
      "outputs": [
        {
          "output_type": "execute_result",
          "data": {
            "text/plain": [
              "0.6506715216811688"
            ]
          },
          "metadata": {},
          "execution_count": 18
        }
      ],
      "source": [
        "\"\"\"\n",
        "Исследуем соотношение правильных и неправильных ответов (исключаем из выборки лекции)\n",
        "\"\"\"\n",
        "train[train['answered_correctly'] != -1]['answered_correctly'].value_counts(normalize=True) \n",
        "train[train['answered_correctly'] != -1]['answered_correctly'].value_counts()[1] \n",
        "train[train['answered_correctly'] != -1]['answered_correctly'].value_counts()[0]\n",
        "train[train['answered_correctly'] != -1]['answered_correctly'].mean()\n",
        "\n",
        "# 66% составляют правильные ответы, 34% - неправильные\n",
        "# всего 65244627 правильных ответов и 34026673 неправильных ответов\n",
        "# 0.657 - средний балл студента"
      ]
    },
    {
      "cell_type": "code",
      "execution_count": 19,
      "id": "8db3128b",
      "metadata": {
        "id": "8db3128b",
        "outputId": "825d2825-da3f-419c-cba3-7b5396bf582d",
        "colab": {
          "base_uri": "https://localhost:8080/"
        }
      },
      "outputs": [
        {
          "output_type": "execute_result",
          "data": {
            "text/plain": [
              "25403.69"
            ]
          },
          "metadata": {},
          "execution_count": 19
        }
      ],
      "source": [
        "\"\"\"\n",
        "Посчитаем среднее время на решение вопроса\n",
        "\"\"\"\n",
        "train['prior_question_elapsed_time'].mean()"
      ]
    },
    {
      "cell_type": "code",
      "execution_count": 20,
      "id": "c8180d30",
      "metadata": {
        "id": "c8180d30",
        "colab": {
          "base_uri": "https://localhost:8080/"
        },
        "outputId": "1170c9fb-8657-4fa1-a927-36df51023adb"
      },
      "outputs": [
        {
          "output_type": "execute_result",
          "data": {
            "text/plain": [
              "25403.69"
            ]
          },
          "metadata": {},
          "execution_count": 20
        }
      ],
      "source": [
        "\"\"\"\n",
        "Приведем средние данные по общей базе данных:\n",
        "\"\"\"\n",
        "train[train['content_type_id'] == 0].shape[0] / train['user_id'].nunique()\n",
        "train[train['answered_correctly'] != -1]['answered_correctly'].sum() / train['user_id'].nunique()\n",
        "train[train['content_type_id'] == 1].shape[0] / train['user_id'].nunique()\n",
        "train['prior_question_had_explanation'].sum() / train['user_id'].nunique()\n",
        "train['prior_question_elapsed_time'].mean()\n",
        "\n",
        "# Cреднее число отвеченных вопросов: 252.17\n",
        "# Среднее кол-во правильных ответов: 165.74\n",
        "# Среднее число просмотренных лекций: 4.97\n",
        "# Среднее число виденных объяснений: 227.82\n",
        "# Среднее время, затрачиваемое на вопрос: 13005"
      ]
    },
    {
      "cell_type": "code",
      "execution_count": 21,
      "id": "188a5183",
      "metadata": {
        "id": "188a5183",
        "outputId": "df18a8cf-3050-4dcc-9305-df4d9583caf1",
        "colab": {
          "base_uri": "https://localhost:8080/",
          "height": 142
        }
      },
      "outputs": [
        {
          "output_type": "execute_result",
          "data": {
            "text/plain": [
              "                       timestamp  prior_questions_time  had_explanation\n",
              "answered_correctly                                                     \n",
              "0                   7.025676e+09          25363.205078         311468.0\n",
              "1                   7.684383e+09          25425.435547         621532.0"
            ],
            "text/html": [
              "\n",
              "  <div id=\"df-13e0e780-d9f7-4469-8043-ea8827d7dea7\">\n",
              "    <div class=\"colab-df-container\">\n",
              "      <div>\n",
              "<style scoped>\n",
              "    .dataframe tbody tr th:only-of-type {\n",
              "        vertical-align: middle;\n",
              "    }\n",
              "\n",
              "    .dataframe tbody tr th {\n",
              "        vertical-align: top;\n",
              "    }\n",
              "\n",
              "    .dataframe thead th {\n",
              "        text-align: right;\n",
              "    }\n",
              "</style>\n",
              "<table border=\"1\" class=\"dataframe\">\n",
              "  <thead>\n",
              "    <tr style=\"text-align: right;\">\n",
              "      <th></th>\n",
              "      <th>timestamp</th>\n",
              "      <th>prior_questions_time</th>\n",
              "      <th>had_explanation</th>\n",
              "    </tr>\n",
              "    <tr>\n",
              "      <th>answered_correctly</th>\n",
              "      <th></th>\n",
              "      <th></th>\n",
              "      <th></th>\n",
              "    </tr>\n",
              "  </thead>\n",
              "  <tbody>\n",
              "    <tr>\n",
              "      <th>0</th>\n",
              "      <td>7.025676e+09</td>\n",
              "      <td>25363.205078</td>\n",
              "      <td>311468.0</td>\n",
              "    </tr>\n",
              "    <tr>\n",
              "      <th>1</th>\n",
              "      <td>7.684383e+09</td>\n",
              "      <td>25425.435547</td>\n",
              "      <td>621532.0</td>\n",
              "    </tr>\n",
              "  </tbody>\n",
              "</table>\n",
              "</div>\n",
              "      <button class=\"colab-df-convert\" onclick=\"convertToInteractive('df-13e0e780-d9f7-4469-8043-ea8827d7dea7')\"\n",
              "              title=\"Convert this dataframe to an interactive table.\"\n",
              "              style=\"display:none;\">\n",
              "        \n",
              "  <svg xmlns=\"http://www.w3.org/2000/svg\" height=\"24px\"viewBox=\"0 0 24 24\"\n",
              "       width=\"24px\">\n",
              "    <path d=\"M0 0h24v24H0V0z\" fill=\"none\"/>\n",
              "    <path d=\"M18.56 5.44l.94 2.06.94-2.06 2.06-.94-2.06-.94-.94-2.06-.94 2.06-2.06.94zm-11 1L8.5 8.5l.94-2.06 2.06-.94-2.06-.94L8.5 2.5l-.94 2.06-2.06.94zm10 10l.94 2.06.94-2.06 2.06-.94-2.06-.94-.94-2.06-.94 2.06-2.06.94z\"/><path d=\"M17.41 7.96l-1.37-1.37c-.4-.4-.92-.59-1.43-.59-.52 0-1.04.2-1.43.59L10.3 9.45l-7.72 7.72c-.78.78-.78 2.05 0 2.83L4 21.41c.39.39.9.59 1.41.59.51 0 1.02-.2 1.41-.59l7.78-7.78 2.81-2.81c.8-.78.8-2.07 0-2.86zM5.41 20L4 18.59l7.72-7.72 1.47 1.35L5.41 20z\"/>\n",
              "  </svg>\n",
              "      </button>\n",
              "      \n",
              "  <style>\n",
              "    .colab-df-container {\n",
              "      display:flex;\n",
              "      flex-wrap:wrap;\n",
              "      gap: 12px;\n",
              "    }\n",
              "\n",
              "    .colab-df-convert {\n",
              "      background-color: #E8F0FE;\n",
              "      border: none;\n",
              "      border-radius: 50%;\n",
              "      cursor: pointer;\n",
              "      display: none;\n",
              "      fill: #1967D2;\n",
              "      height: 32px;\n",
              "      padding: 0 0 0 0;\n",
              "      width: 32px;\n",
              "    }\n",
              "\n",
              "    .colab-df-convert:hover {\n",
              "      background-color: #E2EBFA;\n",
              "      box-shadow: 0px 1px 2px rgba(60, 64, 67, 0.3), 0px 1px 3px 1px rgba(60, 64, 67, 0.15);\n",
              "      fill: #174EA6;\n",
              "    }\n",
              "\n",
              "    [theme=dark] .colab-df-convert {\n",
              "      background-color: #3B4455;\n",
              "      fill: #D2E3FC;\n",
              "    }\n",
              "\n",
              "    [theme=dark] .colab-df-convert:hover {\n",
              "      background-color: #434B5C;\n",
              "      box-shadow: 0px 1px 3px 1px rgba(0, 0, 0, 0.15);\n",
              "      filter: drop-shadow(0px 1px 2px rgba(0, 0, 0, 0.3));\n",
              "      fill: #FFFFFF;\n",
              "    }\n",
              "  </style>\n",
              "\n",
              "      <script>\n",
              "        const buttonEl =\n",
              "          document.querySelector('#df-13e0e780-d9f7-4469-8043-ea8827d7dea7 button.colab-df-convert');\n",
              "        buttonEl.style.display =\n",
              "          google.colab.kernel.accessAllowed ? 'block' : 'none';\n",
              "\n",
              "        async function convertToInteractive(key) {\n",
              "          const element = document.querySelector('#df-13e0e780-d9f7-4469-8043-ea8827d7dea7');\n",
              "          const dataTable =\n",
              "            await google.colab.kernel.invokeFunction('convertToInteractive',\n",
              "                                                     [key], {});\n",
              "          if (!dataTable) return;\n",
              "\n",
              "          const docLinkHtml = 'Like what you see? Visit the ' +\n",
              "            '<a target=\"_blank\" href=https://colab.research.google.com/notebooks/data_table.ipynb>data table notebook</a>'\n",
              "            + ' to learn more about interactive tables.';\n",
              "          element.innerHTML = '';\n",
              "          dataTable['output_type'] = 'display_data';\n",
              "          await google.colab.output.renderOutput(dataTable, element);\n",
              "          const docLink = document.createElement('div');\n",
              "          docLink.innerHTML = docLinkHtml;\n",
              "          element.appendChild(docLink);\n",
              "        }\n",
              "      </script>\n",
              "    </div>\n",
              "  </div>\n",
              "  "
            ]
          },
          "metadata": {},
          "execution_count": 21
        }
      ],
      "source": [
        "\"\"\"\n",
        "Исследуем, есть ли разница в % правильных ответов в зависиомсти от:\n",
        "- времени с начала сессии\n",
        "- среднего времеми ответа студента на вопросы\n",
        "- видел ли студент правильный ответ на предыдущее задание\n",
        "\"\"\"\n",
        "pd.DataFrame({'timestamp': train[train['answered_correctly'] != -1]['timestamp'].groupby(train['answered_correctly']).mean(),\n",
        "              'prior_questions_time': train[train['answered_correctly'] != -1]['prior_question_elapsed_time'].groupby(train['answered_correctly']).mean(),\n",
        "              'had_explanation': train[train['answered_correctly'] != -1]['prior_question_had_explanation'].groupby(train['answered_correctly']).sum()\n",
        "             }\n",
        "            )\n",
        "\n",
        "# Исходя из полученных данных можно сделать следующие выводы:\n",
        "# - чем ближе к началу сессии вопрос, тем менее успешно его проходят студенты \n",
        "# (т.е. успешность коррелирует со временем, проведенным на платформе)\n",
        "# - студенты, тратящие меньше времени на решение, чаще отвечают правильно\n",
        "# - если студент видел объяснение предыдущий задачи, вероятность правильного ответа удваивается"
      ]
    },
    {
      "cell_type": "markdown",
      "id": "39cc4e50",
      "metadata": {
        "id": "39cc4e50"
      },
      "source": [
        "### Основные выводы по разделу 1:\n",
        "\n",
        "- Всего в данных присутствует информация об активности 393656 студентов.\n",
        "- На платформе 13523 вопросов (объединенных в 10000 блоков) и 418 лекций по 7 темам. \n",
        "- 98% активновти студентов приходится на ответы на вопросы, только 2% тратится на лекции.\n",
        "- 66% составляют правильные ответы, 34% - неправильные.\n",
        "- 0.657 - средний балл студента\n",
        "- Cреднее число отвеченных вопросов: 252.17\n",
        "- Среднее кол-во правильных ответов: 165.74\n",
        "- Среднее число просмотренных лекций: 4.97\n",
        "- Среднее число объяснений: 227.82\n",
        "- Среднее время, затрачиваемое на вопрос: 13 сек.\n",
        "- Cреднее время на решение вопроса 13005 милисекунд (= 13 секунд)\n",
        "- Чем ближе к началу сессии вопрос, тем менее успешно его проходят студенты (т.е. успешность коррелирует со временем, проведенным на платформе)\n",
        "- Студенты в среднем тратят меньше времени на правильный ответ, чем на неправильный\n",
        "- Если студент видел объяснение предыдущий задачи, он в 2 раза чаще отвечает правильно, чем неправильно"
      ]
    },
    {
      "cell_type": "markdown",
      "id": "272ee664",
      "metadata": {
        "id": "272ee664"
      },
      "source": [
        "---"
      ]
    },
    {
      "cell_type": "markdown",
      "id": "d1f967fb",
      "metadata": {
        "id": "d1f967fb"
      },
      "source": [
        "## 2. Для дальнейшего анализа создадим новый DataFrame с данными, агрегированными по студентам\n",
        "students\n",
        "\n",
        "Добавим данные:\n",
        "- **user_id**: ID студента\n",
        "- **time**: время, проведенное на платформе\n",
        "- **ques_quant**: количество отвеченных вопросов\n",
        "- **av_grade**: средний балл студента\n",
        "- **lec_watched**: кол-во просмотренных лекций\n",
        "- **expl_watched**: кол-во виденных объяснений на предыдущие вопросы"
      ]
    },
    {
      "cell_type": "code",
      "execution_count": 22,
      "id": "d6b6a387",
      "metadata": {
        "id": "d6b6a387"
      },
      "outputs": [],
      "source": [
        "\"\"\"\n",
        "Cоставим новый DataFrame по уникальным id студентов\n",
        "Cначала сформируем необходимые списки для df\n",
        "\"\"\"\n",
        "sudents_list = list(train['user_id'].unique())\n",
        "users_q = len(sudents_list)\n",
        "\n",
        "# Всего 393656 уникальных студентов"
      ]
    },
    {
      "cell_type": "code",
      "execution_count": 23,
      "id": "df0fde4c",
      "metadata": {
        "id": "df0fde4c"
      },
      "outputs": [],
      "source": [
        "\"\"\"\n",
        "Обрежем df до 500 уникальных студентов и проанализируем их активность.\n",
        "\"\"\"\n",
        "sudents_list = sudents_list[:500]"
      ]
    },
    {
      "cell_type": "code",
      "execution_count": 24,
      "id": "754244a2",
      "metadata": {
        "id": "754244a2"
      },
      "outputs": [],
      "source": [
        "\"\"\"\n",
        "Посчитаем время нахождения на платформе для каждого студента\n",
        "\"\"\"\n",
        "time = []\n",
        "for student in sudents_list:\n",
        "    t = train[train['user_id'] == student]['timestamp'].max()\n",
        "    time.append(t)"
      ]
    },
    {
      "cell_type": "code",
      "execution_count": 25,
      "id": "97f3d460",
      "metadata": {
        "id": "97f3d460"
      },
      "outputs": [],
      "source": [
        "\"\"\"\n",
        "Количество отвеченных вопросов\n",
        "\"\"\"\n",
        "ques_quant = []\n",
        "for student in sudents_list:\n",
        "    q = train[(train['user_id'] == student) & (train['content_type_id'] == 0)]['content_type_id'].count()\n",
        "    ques_quant.append(q)"
      ]
    },
    {
      "cell_type": "code",
      "execution_count": 26,
      "id": "392e03e0",
      "metadata": {
        "id": "392e03e0"
      },
      "outputs": [],
      "source": [
        "\"\"\"\n",
        "Cредний балл студента\n",
        "\"\"\"\n",
        "av_grade = []\n",
        "for student in sudents_list:\n",
        "    g = train[(train['user_id'] == student) & (train['answered_correctly'] != -1)]['answered_correctly'].mean()\n",
        "    av_grade.append(g)"
      ]
    },
    {
      "cell_type": "code",
      "execution_count": 27,
      "id": "80f0c888",
      "metadata": {
        "id": "80f0c888"
      },
      "outputs": [],
      "source": [
        "\"\"\"\n",
        "Кол-во просмотренных лекций\n",
        "\"\"\"\n",
        "lec_watched = []\n",
        "for student in sudents_list:\n",
        "    l = train[train['user_id'] == student]['content_type_id'].sum()\n",
        "    lec_watched.append(l)"
      ]
    },
    {
      "cell_type": "code",
      "execution_count": 28,
      "id": "74b80737",
      "metadata": {
        "id": "74b80737"
      },
      "outputs": [],
      "source": [
        "\"\"\"\n",
        "Кол-во виденных объяснений на предыдущие вопросы\n",
        "\"\"\"\n",
        "expl_watched = []\n",
        "for student in sudents_list:\n",
        "    e = train[train['user_id'] == student]['prior_question_had_explanation'].sum()\n",
        "    expl_watched.append(e)"
      ]
    },
    {
      "cell_type": "code",
      "execution_count": 29,
      "id": "44d85a6b",
      "metadata": {
        "id": "44d85a6b"
      },
      "outputs": [],
      "source": [
        "\"\"\"\n",
        "Время, в среднем потраченное студентом на каждый вопрос\n",
        "\"\"\"\n",
        "ques_time = []\n",
        "for student in sudents_list:\n",
        "    qt = train[(train['user_id'] == student)]['prior_question_elapsed_time'].mean()\n",
        "    ques_time.append(qt)"
      ]
    },
    {
      "cell_type": "code",
      "execution_count": 30,
      "id": "114cfaa8",
      "metadata": {
        "id": "114cfaa8"
      },
      "outputs": [],
      "source": [
        "\"\"\"\n",
        "Запишем данные по 500 отобранным студентам в единую таблицу\n",
        "\"\"\"\n",
        "students = pd.DataFrame({'user_id': sudents_list,\n",
        "                        'time': time,\n",
        "                        'ques_quant': ques_quant,\n",
        "                        'av_grade': av_grade,\n",
        "                        'lec_watched': lec_watched,\n",
        "                        'expl_watched': expl_watched,\n",
        "                         'ques_time': ques_time\n",
        "                       }\n",
        "                      )\n",
        "students = students.astype({'user_id': 'int32',\n",
        "                            'time': 'int64',\n",
        "                            'ques_quant': 'int16', \n",
        "                            'av_grade': 'float32',\n",
        "                            'lec_watched': 'int16',\n",
        "                            'expl_watched': 'int16',\n",
        "                            'ques_time': 'float32'\n",
        "                           })"
      ]
    },
    {
      "cell_type": "code",
      "execution_count": 31,
      "id": "563deeeb",
      "metadata": {
        "id": "563deeeb",
        "outputId": "ae9c801c-ee16-49a0-d11c-8b8f1c1c0896",
        "colab": {
          "base_uri": "https://localhost:8080/",
          "height": 204
        }
      },
      "outputs": [
        {
          "output_type": "execute_result",
          "data": {
            "text/plain": [
              "   user_id        time  ques_quant  av_grade  lec_watched  expl_watched  \\\n",
              "0      115   668090043          46  0.695652            0             6   \n",
              "1      124      571323          30  0.233333            0             0   \n",
              "2     2746      835457          19  0.578947            1            11   \n",
              "3     5382  2101551456         125  0.672000            3           113   \n",
              "4     8623   862338736         109  0.642202            3            96   \n",
              "\n",
              "      ques_time  \n",
              "0  19933.310547  \n",
              "1  18793.000000  \n",
              "2  18055.554688  \n",
              "3  36048.386719  \n",
              "4  26107.408203  "
            ],
            "text/html": [
              "\n",
              "  <div id=\"df-63d3c412-2e4a-432c-958c-62763a79c84c\">\n",
              "    <div class=\"colab-df-container\">\n",
              "      <div>\n",
              "<style scoped>\n",
              "    .dataframe tbody tr th:only-of-type {\n",
              "        vertical-align: middle;\n",
              "    }\n",
              "\n",
              "    .dataframe tbody tr th {\n",
              "        vertical-align: top;\n",
              "    }\n",
              "\n",
              "    .dataframe thead th {\n",
              "        text-align: right;\n",
              "    }\n",
              "</style>\n",
              "<table border=\"1\" class=\"dataframe\">\n",
              "  <thead>\n",
              "    <tr style=\"text-align: right;\">\n",
              "      <th></th>\n",
              "      <th>user_id</th>\n",
              "      <th>time</th>\n",
              "      <th>ques_quant</th>\n",
              "      <th>av_grade</th>\n",
              "      <th>lec_watched</th>\n",
              "      <th>expl_watched</th>\n",
              "      <th>ques_time</th>\n",
              "    </tr>\n",
              "  </thead>\n",
              "  <tbody>\n",
              "    <tr>\n",
              "      <th>0</th>\n",
              "      <td>115</td>\n",
              "      <td>668090043</td>\n",
              "      <td>46</td>\n",
              "      <td>0.695652</td>\n",
              "      <td>0</td>\n",
              "      <td>6</td>\n",
              "      <td>19933.310547</td>\n",
              "    </tr>\n",
              "    <tr>\n",
              "      <th>1</th>\n",
              "      <td>124</td>\n",
              "      <td>571323</td>\n",
              "      <td>30</td>\n",
              "      <td>0.233333</td>\n",
              "      <td>0</td>\n",
              "      <td>0</td>\n",
              "      <td>18793.000000</td>\n",
              "    </tr>\n",
              "    <tr>\n",
              "      <th>2</th>\n",
              "      <td>2746</td>\n",
              "      <td>835457</td>\n",
              "      <td>19</td>\n",
              "      <td>0.578947</td>\n",
              "      <td>1</td>\n",
              "      <td>11</td>\n",
              "      <td>18055.554688</td>\n",
              "    </tr>\n",
              "    <tr>\n",
              "      <th>3</th>\n",
              "      <td>5382</td>\n",
              "      <td>2101551456</td>\n",
              "      <td>125</td>\n",
              "      <td>0.672000</td>\n",
              "      <td>3</td>\n",
              "      <td>113</td>\n",
              "      <td>36048.386719</td>\n",
              "    </tr>\n",
              "    <tr>\n",
              "      <th>4</th>\n",
              "      <td>8623</td>\n",
              "      <td>862338736</td>\n",
              "      <td>109</td>\n",
              "      <td>0.642202</td>\n",
              "      <td>3</td>\n",
              "      <td>96</td>\n",
              "      <td>26107.408203</td>\n",
              "    </tr>\n",
              "  </tbody>\n",
              "</table>\n",
              "</div>\n",
              "      <button class=\"colab-df-convert\" onclick=\"convertToInteractive('df-63d3c412-2e4a-432c-958c-62763a79c84c')\"\n",
              "              title=\"Convert this dataframe to an interactive table.\"\n",
              "              style=\"display:none;\">\n",
              "        \n",
              "  <svg xmlns=\"http://www.w3.org/2000/svg\" height=\"24px\"viewBox=\"0 0 24 24\"\n",
              "       width=\"24px\">\n",
              "    <path d=\"M0 0h24v24H0V0z\" fill=\"none\"/>\n",
              "    <path d=\"M18.56 5.44l.94 2.06.94-2.06 2.06-.94-2.06-.94-.94-2.06-.94 2.06-2.06.94zm-11 1L8.5 8.5l.94-2.06 2.06-.94-2.06-.94L8.5 2.5l-.94 2.06-2.06.94zm10 10l.94 2.06.94-2.06 2.06-.94-2.06-.94-.94-2.06-.94 2.06-2.06.94z\"/><path d=\"M17.41 7.96l-1.37-1.37c-.4-.4-.92-.59-1.43-.59-.52 0-1.04.2-1.43.59L10.3 9.45l-7.72 7.72c-.78.78-.78 2.05 0 2.83L4 21.41c.39.39.9.59 1.41.59.51 0 1.02-.2 1.41-.59l7.78-7.78 2.81-2.81c.8-.78.8-2.07 0-2.86zM5.41 20L4 18.59l7.72-7.72 1.47 1.35L5.41 20z\"/>\n",
              "  </svg>\n",
              "      </button>\n",
              "      \n",
              "  <style>\n",
              "    .colab-df-container {\n",
              "      display:flex;\n",
              "      flex-wrap:wrap;\n",
              "      gap: 12px;\n",
              "    }\n",
              "\n",
              "    .colab-df-convert {\n",
              "      background-color: #E8F0FE;\n",
              "      border: none;\n",
              "      border-radius: 50%;\n",
              "      cursor: pointer;\n",
              "      display: none;\n",
              "      fill: #1967D2;\n",
              "      height: 32px;\n",
              "      padding: 0 0 0 0;\n",
              "      width: 32px;\n",
              "    }\n",
              "\n",
              "    .colab-df-convert:hover {\n",
              "      background-color: #E2EBFA;\n",
              "      box-shadow: 0px 1px 2px rgba(60, 64, 67, 0.3), 0px 1px 3px 1px rgba(60, 64, 67, 0.15);\n",
              "      fill: #174EA6;\n",
              "    }\n",
              "\n",
              "    [theme=dark] .colab-df-convert {\n",
              "      background-color: #3B4455;\n",
              "      fill: #D2E3FC;\n",
              "    }\n",
              "\n",
              "    [theme=dark] .colab-df-convert:hover {\n",
              "      background-color: #434B5C;\n",
              "      box-shadow: 0px 1px 3px 1px rgba(0, 0, 0, 0.15);\n",
              "      filter: drop-shadow(0px 1px 2px rgba(0, 0, 0, 0.3));\n",
              "      fill: #FFFFFF;\n",
              "    }\n",
              "  </style>\n",
              "\n",
              "      <script>\n",
              "        const buttonEl =\n",
              "          document.querySelector('#df-63d3c412-2e4a-432c-958c-62763a79c84c button.colab-df-convert');\n",
              "        buttonEl.style.display =\n",
              "          google.colab.kernel.accessAllowed ? 'block' : 'none';\n",
              "\n",
              "        async function convertToInteractive(key) {\n",
              "          const element = document.querySelector('#df-63d3c412-2e4a-432c-958c-62763a79c84c');\n",
              "          const dataTable =\n",
              "            await google.colab.kernel.invokeFunction('convertToInteractive',\n",
              "                                                     [key], {});\n",
              "          if (!dataTable) return;\n",
              "\n",
              "          const docLinkHtml = 'Like what you see? Visit the ' +\n",
              "            '<a target=\"_blank\" href=https://colab.research.google.com/notebooks/data_table.ipynb>data table notebook</a>'\n",
              "            + ' to learn more about interactive tables.';\n",
              "          element.innerHTML = '';\n",
              "          dataTable['output_type'] = 'display_data';\n",
              "          await google.colab.output.renderOutput(dataTable, element);\n",
              "          const docLink = document.createElement('div');\n",
              "          docLink.innerHTML = docLinkHtml;\n",
              "          element.appendChild(docLink);\n",
              "        }\n",
              "      </script>\n",
              "    </div>\n",
              "  </div>\n",
              "  "
            ]
          },
          "metadata": {},
          "execution_count": 31
        }
      ],
      "source": [
        "students.head()"
      ]
    },
    {
      "cell_type": "code",
      "execution_count": 32,
      "id": "0a58ae69",
      "metadata": {
        "id": "0a58ae69",
        "outputId": "925df5b0-80a8-4941-8e78-bb45ebb543e8",
        "colab": {
          "base_uri": "https://localhost:8080/",
          "height": 297
        }
      },
      "outputs": [
        {
          "output_type": "execute_result",
          "data": {
            "text/plain": [
              "            user_id          time   ques_quant    av_grade  lec_watched  \\\n",
              "count  5.000000e+02  5.000000e+02   500.000000  500.000000   500.000000   \n",
              "mean   1.468722e+06  5.361427e+09   276.574000    0.554668     5.240000   \n",
              "std    8.476328e+05  1.025473e+10   757.372753    0.165881    17.461851   \n",
              "min    1.150000e+02  0.000000e+00     1.000000    0.000000     0.000000   \n",
              "25%    7.444190e+05  1.395153e+06    30.000000    0.441731     0.000000   \n",
              "50%    1.514318e+06  4.714174e+08    45.000000    0.580850     0.000000   \n",
              "75%    2.201334e+06  5.065056e+09   171.750000    0.674960     2.000000   \n",
              "max    2.909984e+06  6.370152e+10  7476.000000    1.000000   181.000000   \n",
              "\n",
              "       expl_watched     ques_time  \n",
              "count    500.000000    499.000000  \n",
              "mean     253.600000  23859.998047  \n",
              "std      751.298414   7225.854492  \n",
              "min        0.000000   1344.862061  \n",
              "25%        9.000000  19370.302734  \n",
              "50%       22.500000  22924.494141  \n",
              "75%      142.000000  26889.037109  \n",
              "max     7465.000000  60351.351562  "
            ],
            "text/html": [
              "\n",
              "  <div id=\"df-59c4a007-f317-4a62-a5e2-8141d928662d\">\n",
              "    <div class=\"colab-df-container\">\n",
              "      <div>\n",
              "<style scoped>\n",
              "    .dataframe tbody tr th:only-of-type {\n",
              "        vertical-align: middle;\n",
              "    }\n",
              "\n",
              "    .dataframe tbody tr th {\n",
              "        vertical-align: top;\n",
              "    }\n",
              "\n",
              "    .dataframe thead th {\n",
              "        text-align: right;\n",
              "    }\n",
              "</style>\n",
              "<table border=\"1\" class=\"dataframe\">\n",
              "  <thead>\n",
              "    <tr style=\"text-align: right;\">\n",
              "      <th></th>\n",
              "      <th>user_id</th>\n",
              "      <th>time</th>\n",
              "      <th>ques_quant</th>\n",
              "      <th>av_grade</th>\n",
              "      <th>lec_watched</th>\n",
              "      <th>expl_watched</th>\n",
              "      <th>ques_time</th>\n",
              "    </tr>\n",
              "  </thead>\n",
              "  <tbody>\n",
              "    <tr>\n",
              "      <th>count</th>\n",
              "      <td>5.000000e+02</td>\n",
              "      <td>5.000000e+02</td>\n",
              "      <td>500.000000</td>\n",
              "      <td>500.000000</td>\n",
              "      <td>500.000000</td>\n",
              "      <td>500.000000</td>\n",
              "      <td>499.000000</td>\n",
              "    </tr>\n",
              "    <tr>\n",
              "      <th>mean</th>\n",
              "      <td>1.468722e+06</td>\n",
              "      <td>5.361427e+09</td>\n",
              "      <td>276.574000</td>\n",
              "      <td>0.554668</td>\n",
              "      <td>5.240000</td>\n",
              "      <td>253.600000</td>\n",
              "      <td>23859.998047</td>\n",
              "    </tr>\n",
              "    <tr>\n",
              "      <th>std</th>\n",
              "      <td>8.476328e+05</td>\n",
              "      <td>1.025473e+10</td>\n",
              "      <td>757.372753</td>\n",
              "      <td>0.165881</td>\n",
              "      <td>17.461851</td>\n",
              "      <td>751.298414</td>\n",
              "      <td>7225.854492</td>\n",
              "    </tr>\n",
              "    <tr>\n",
              "      <th>min</th>\n",
              "      <td>1.150000e+02</td>\n",
              "      <td>0.000000e+00</td>\n",
              "      <td>1.000000</td>\n",
              "      <td>0.000000</td>\n",
              "      <td>0.000000</td>\n",
              "      <td>0.000000</td>\n",
              "      <td>1344.862061</td>\n",
              "    </tr>\n",
              "    <tr>\n",
              "      <th>25%</th>\n",
              "      <td>7.444190e+05</td>\n",
              "      <td>1.395153e+06</td>\n",
              "      <td>30.000000</td>\n",
              "      <td>0.441731</td>\n",
              "      <td>0.000000</td>\n",
              "      <td>9.000000</td>\n",
              "      <td>19370.302734</td>\n",
              "    </tr>\n",
              "    <tr>\n",
              "      <th>50%</th>\n",
              "      <td>1.514318e+06</td>\n",
              "      <td>4.714174e+08</td>\n",
              "      <td>45.000000</td>\n",
              "      <td>0.580850</td>\n",
              "      <td>0.000000</td>\n",
              "      <td>22.500000</td>\n",
              "      <td>22924.494141</td>\n",
              "    </tr>\n",
              "    <tr>\n",
              "      <th>75%</th>\n",
              "      <td>2.201334e+06</td>\n",
              "      <td>5.065056e+09</td>\n",
              "      <td>171.750000</td>\n",
              "      <td>0.674960</td>\n",
              "      <td>2.000000</td>\n",
              "      <td>142.000000</td>\n",
              "      <td>26889.037109</td>\n",
              "    </tr>\n",
              "    <tr>\n",
              "      <th>max</th>\n",
              "      <td>2.909984e+06</td>\n",
              "      <td>6.370152e+10</td>\n",
              "      <td>7476.000000</td>\n",
              "      <td>1.000000</td>\n",
              "      <td>181.000000</td>\n",
              "      <td>7465.000000</td>\n",
              "      <td>60351.351562</td>\n",
              "    </tr>\n",
              "  </tbody>\n",
              "</table>\n",
              "</div>\n",
              "      <button class=\"colab-df-convert\" onclick=\"convertToInteractive('df-59c4a007-f317-4a62-a5e2-8141d928662d')\"\n",
              "              title=\"Convert this dataframe to an interactive table.\"\n",
              "              style=\"display:none;\">\n",
              "        \n",
              "  <svg xmlns=\"http://www.w3.org/2000/svg\" height=\"24px\"viewBox=\"0 0 24 24\"\n",
              "       width=\"24px\">\n",
              "    <path d=\"M0 0h24v24H0V0z\" fill=\"none\"/>\n",
              "    <path d=\"M18.56 5.44l.94 2.06.94-2.06 2.06-.94-2.06-.94-.94-2.06-.94 2.06-2.06.94zm-11 1L8.5 8.5l.94-2.06 2.06-.94-2.06-.94L8.5 2.5l-.94 2.06-2.06.94zm10 10l.94 2.06.94-2.06 2.06-.94-2.06-.94-.94-2.06-.94 2.06-2.06.94z\"/><path d=\"M17.41 7.96l-1.37-1.37c-.4-.4-.92-.59-1.43-.59-.52 0-1.04.2-1.43.59L10.3 9.45l-7.72 7.72c-.78.78-.78 2.05 0 2.83L4 21.41c.39.39.9.59 1.41.59.51 0 1.02-.2 1.41-.59l7.78-7.78 2.81-2.81c.8-.78.8-2.07 0-2.86zM5.41 20L4 18.59l7.72-7.72 1.47 1.35L5.41 20z\"/>\n",
              "  </svg>\n",
              "      </button>\n",
              "      \n",
              "  <style>\n",
              "    .colab-df-container {\n",
              "      display:flex;\n",
              "      flex-wrap:wrap;\n",
              "      gap: 12px;\n",
              "    }\n",
              "\n",
              "    .colab-df-convert {\n",
              "      background-color: #E8F0FE;\n",
              "      border: none;\n",
              "      border-radius: 50%;\n",
              "      cursor: pointer;\n",
              "      display: none;\n",
              "      fill: #1967D2;\n",
              "      height: 32px;\n",
              "      padding: 0 0 0 0;\n",
              "      width: 32px;\n",
              "    }\n",
              "\n",
              "    .colab-df-convert:hover {\n",
              "      background-color: #E2EBFA;\n",
              "      box-shadow: 0px 1px 2px rgba(60, 64, 67, 0.3), 0px 1px 3px 1px rgba(60, 64, 67, 0.15);\n",
              "      fill: #174EA6;\n",
              "    }\n",
              "\n",
              "    [theme=dark] .colab-df-convert {\n",
              "      background-color: #3B4455;\n",
              "      fill: #D2E3FC;\n",
              "    }\n",
              "\n",
              "    [theme=dark] .colab-df-convert:hover {\n",
              "      background-color: #434B5C;\n",
              "      box-shadow: 0px 1px 3px 1px rgba(0, 0, 0, 0.15);\n",
              "      filter: drop-shadow(0px 1px 2px rgba(0, 0, 0, 0.3));\n",
              "      fill: #FFFFFF;\n",
              "    }\n",
              "  </style>\n",
              "\n",
              "      <script>\n",
              "        const buttonEl =\n",
              "          document.querySelector('#df-59c4a007-f317-4a62-a5e2-8141d928662d button.colab-df-convert');\n",
              "        buttonEl.style.display =\n",
              "          google.colab.kernel.accessAllowed ? 'block' : 'none';\n",
              "\n",
              "        async function convertToInteractive(key) {\n",
              "          const element = document.querySelector('#df-59c4a007-f317-4a62-a5e2-8141d928662d');\n",
              "          const dataTable =\n",
              "            await google.colab.kernel.invokeFunction('convertToInteractive',\n",
              "                                                     [key], {});\n",
              "          if (!dataTable) return;\n",
              "\n",
              "          const docLinkHtml = 'Like what you see? Visit the ' +\n",
              "            '<a target=\"_blank\" href=https://colab.research.google.com/notebooks/data_table.ipynb>data table notebook</a>'\n",
              "            + ' to learn more about interactive tables.';\n",
              "          element.innerHTML = '';\n",
              "          dataTable['output_type'] = 'display_data';\n",
              "          await google.colab.output.renderOutput(dataTable, element);\n",
              "          const docLink = document.createElement('div');\n",
              "          docLink.innerHTML = docLinkHtml;\n",
              "          element.appendChild(docLink);\n",
              "        }\n",
              "      </script>\n",
              "    </div>\n",
              "  </div>\n",
              "  "
            ]
          },
          "metadata": {},
          "execution_count": 32
        }
      ],
      "source": [
        "\"\"\"\n",
        "Посмотрим, насколько выборка похожа на общие данные:\n",
        "\"\"\"\n",
        "students.describe()\n",
        "\n",
        "# Выборка средними значениями отличается от общего датасета:\n",
        "# средняя успеваемость у выбранной группы ниже, чем у полного набора данных, \n",
        "# при этом среднее число просмотренных лекций и объяснений выше\n",
        "# (за счет относительно небольшого кол-ва активно учащихся студентов\n",
        "# это видно из смещения кол-ва отвеченных вопросов, просмотренных лекций и объяснений в верхний квартиль\n",
        "# и высокой дисперсии)\n",
        "# Однако все значения укладываются в среднеквадратическое отклонение, \n",
        "# поэтому можем считать их несущественными для результатов анализа"
      ]
    },
    {
      "cell_type": "code",
      "execution_count": 33,
      "id": "541ca377",
      "metadata": {
        "id": "541ca377",
        "outputId": "38b16944-f258-478f-b143-2bfc2be2c9c7",
        "colab": {
          "base_uri": "https://localhost:8080/",
          "height": 282
        }
      },
      "outputs": [
        {
          "output_type": "execute_result",
          "data": {
            "text/plain": [
              "<matplotlib.axes._subplots.AxesSubplot at 0x7f259dc2f410>"
            ]
          },
          "metadata": {},
          "execution_count": 33
        },
        {
          "output_type": "display_data",
          "data": {
            "text/plain": [
              "<Figure size 432x288 with 1 Axes>"
            ],
            "image/png": "[encoded data removed]"
          },
          "metadata": {
            "needs_background": "light"
          }
        }
      ],
      "source": [
        "\"\"\"\n",
        "Гистограма распределения средних оценок среди студентов\n",
        "\"\"\"\n",
        "students['av_grade'].hist(bins=20)"
      ]
    },
    {
      "cell_type": "code",
      "execution_count": 34,
      "id": "8509e795",
      "metadata": {
        "id": "8509e795",
        "outputId": "9776151f-7bd7-42f5-b30a-212ce9f2ab70",
        "colab": {
          "base_uri": "https://localhost:8080/"
        }
      },
      "outputs": [
        {
          "output_type": "execute_result",
          "data": {
            "text/plain": [
              "0.58084965"
            ]
          },
          "metadata": {},
          "execution_count": 34
        }
      ],
      "source": [
        "students['av_grade'].median()"
      ]
    },
    {
      "cell_type": "markdown",
      "id": "407f3f0a",
      "metadata": {
        "id": "407f3f0a"
      },
      "source": [
        "### Проанализируем зависимость успешности студента от:\n",
        "- индивидуального времени, проведенного на платформе\n",
        "- кол-ва сделанных заданий\n",
        "- кол-ва виденных объяснений\n",
        "- кол-ва времени, затраченного на каждый вопрос\n",
        "- кол-ва просмотренных лекций"
      ]
    },
    {
      "cell_type": "code",
      "execution_count": 35,
      "id": "b362de72",
      "metadata": {
        "id": "b362de72",
        "outputId": "93817534-fb73-4b6d-9940-e071b032d80d",
        "colab": {
          "base_uri": "https://localhost:8080/",
          "height": 308
        }
      },
      "outputs": [
        {
          "output_type": "execute_result",
          "data": {
            "text/plain": [
              "<matplotlib.axes._subplots.AxesSubplot at 0x7f259d68ad90>"
            ]
          },
          "metadata": {},
          "execution_count": 35
        },
        {
          "output_type": "display_data",
          "data": {
            "text/plain": [
              "<Figure size 432x288 with 1 Axes>"
            ],
            "image/png": "[encoded data removed]"
          },
          "metadata": {
            "needs_background": "light"
          }
        }
      ],
      "source": [
        "\"\"\"\n",
        "Построим диаграмму рассеяния, показывающую зависимость правильных ответов от веремени, проведенного на платформе\n",
        "Чтобы убрать выбросы, ограничим время 3000000.\n",
        "\"\"\"\n",
        "students[students['time'] < 3000000].plot.scatter(x='av_grade', y='time')\n",
        "\n",
        "# Из графика неочевидно, что с ростом времени, затраченного на платформе, растет процент правильных ответов у студентов\n",
        "# Можем сделать 2 предположения:\n",
        "# - либо время, проведенное на платформе не имеет значимого влияния на успеваемость\n",
        "# - либо для эффекта нужно затрачивать время сильно больше, чем это делает большинство студентов"
      ]
    },
    {
      "cell_type": "code",
      "execution_count": 36,
      "id": "82dcf903",
      "metadata": {
        "id": "82dcf903",
        "outputId": "cee1649d-2065-4a3e-b627-75935025e2f9",
        "colab": {
          "base_uri": "https://localhost:8080/",
          "height": 328
        }
      },
      "outputs": [
        {
          "output_type": "execute_result",
          "data": {
            "text/plain": [
              "array([[<matplotlib.axes._subplots.AxesSubplot object at 0x7f259d612f90>]],\n",
              "      dtype=object)"
            ]
          },
          "metadata": {},
          "execution_count": 36
        },
        {
          "output_type": "display_data",
          "data": {
            "text/plain": [
              "<Figure size 432x288 with 1 Axes>"
            ],
            "image/png": "[encoded data removed]"
          },
          "metadata": {
            "needs_background": "light"
          }
        }
      ],
      "source": [
        "\"\"\"\n",
        "Посмотрим на гистограмме, в какой момент большинство студентов прекращает занятия\n",
        "\"\"\"\n",
        "students[students['time'] < 3000000].hist(column=['time'])\n",
        "\n",
        "# Мы видим, что после 1000000 милисекунд (=17 минут) 1/5 часть студентов не продолжает обучения, \n",
        "# после 2500000 милисекунд (=42 минуты) учебу бросает уже треть\n",
        "# Получается, то, что мы изначально сочли выбросами - это наша основная рабочая выборка, которую надо исследовать,\n",
        "# чтобы понять влияние факторов на успеваемость. "
      ]
    },
    {
      "cell_type": "code",
      "execution_count": 37,
      "id": "048f9143",
      "metadata": {
        "id": "048f9143",
        "outputId": "90ee857f-c9a9-4ed5-c794-979aade3fba8",
        "colab": {
          "base_uri": "https://localhost:8080/"
        }
      },
      "outputs": [
        {
          "output_type": "execute_result",
          "data": {
            "text/plain": [
              "(161, 7)"
            ]
          },
          "metadata": {},
          "execution_count": 37
        }
      ],
      "source": [
        "# строка для проверки данных отсечения\n",
        "students[students['time'] < 2500000].shape"
      ]
    },
    {
      "cell_type": "code",
      "execution_count": 38,
      "id": "830707b6",
      "metadata": {
        "id": "830707b6",
        "outputId": "d89d505b-1099-4c26-9515-2b6bd38e7b47",
        "colab": {
          "base_uri": "https://localhost:8080/",
          "height": 308
        }
      },
      "outputs": [
        {
          "output_type": "execute_result",
          "data": {
            "text/plain": [
              "<matplotlib.axes._subplots.AxesSubplot at 0x7f259d595710>"
            ]
          },
          "metadata": {},
          "execution_count": 38
        },
        {
          "output_type": "display_data",
          "data": {
            "text/plain": [
              "<Figure size 432x288 with 1 Axes>"
            ],
            "image/png": "[encoded data removed]"
          },
          "metadata": {
            "needs_background": "light"
          }
        }
      ],
      "source": [
        "\"\"\"\n",
        "Построим диаграмму рассеяния для студентов, не бросивших учебу в течение первого часа.\n",
        "\"\"\"\n",
        "students[students['time'] > 3000000].plot.scatter(x='av_grade', y='time')\n",
        "\n",
        "# Видна тенденция роста успеваемости с течением веремени"
      ]
    },
    {
      "cell_type": "code",
      "execution_count": 39,
      "id": "7ca31e74",
      "metadata": {
        "id": "7ca31e74"
      },
      "outputs": [],
      "source": [
        "\"\"\"\n",
        "Для наглядности проведем разбиение студентов по временным группам:\n",
        " - Добавим столбец с временной группировкой\n",
        " - Построим диаграмму размаха\n",
        "\"\"\"\n",
        "\n",
        "def time_convert(e):\n",
        "    if e < students['time'].quantile(0.1): return 0\n",
        "    elif e < students['time'].quantile(0.2): return 1\n",
        "    elif e < students['time'].quantile(0.3): return 2\n",
        "    elif e < students['time'].quantile(0.4): return 3\n",
        "    elif e < students['time'].quantile(0.5): return 4\n",
        "    elif e < students['time'].quantile(0.6): return 5\n",
        "    elif e < students['time'].quantile(0.7): return 6\n",
        "    elif e < students['time'].quantile(0.8): return 7\n",
        "    elif e < students['time'].quantile(0.9): return 8\n",
        "    else: return 9\n",
        "    \n",
        "students['time_group'] = students['time'].apply(time_convert)"
      ]
    },
    {
      "cell_type": "code",
      "execution_count": 40,
      "id": "40652b94",
      "metadata": {
        "colab": {
          "base_uri": "https://localhost:8080/",
          "height": 319
        },
        "id": "40652b94",
        "outputId": "bf413334-cecd-4e19-a6b1-6b9b65ba9c52"
      },
      "outputs": [
        {
          "output_type": "execute_result",
          "data": {
            "text/plain": [
              "<matplotlib.axes._subplots.AxesSubplot at 0x7f259d4fd050>"
            ]
          },
          "metadata": {},
          "execution_count": 40
        },
        {
          "output_type": "display_data",
          "data": {
            "text/plain": [
              "<Figure size 432x288 with 1 Axes>"
            ],
            "image/png": "[encoded data removed]"
          },
          "metadata": {
            "needs_background": "light"
          }
        }
      ],
      "source": [
        "students.boxplot(column=['av_grade'], by=['time_group'])\n",
        "\n",
        "# Первый эффект от занятий становится виден, если студент не бросает заниматься\n",
        "# При этом, если студент потратил на занятия не менее 55 часов, его оценка становится устойчиво выше средней\n",
        "# и продолжает расти со временем.\n",
        "# Однако, если курс не пройден за ориентировочно полгода, оценка становится плавающей"
      ]
    },
    {
      "cell_type": "code",
      "execution_count": 41,
      "id": "cb8f19bc",
      "metadata": {
        "id": "cb8f19bc",
        "outputId": "fa8b0094-24c2-4ac3-8b47-5e99fb67a431",
        "colab": {
          "base_uri": "https://localhost:8080/"
        }
      },
      "outputs": [
        {
          "output_type": "execute_result",
          "data": {
            "text/plain": [
              "118.11600010069442"
            ]
          },
          "metadata": {},
          "execution_count": 41
        }
      ],
      "source": [
        "students['time'].quantile(0.7)/1000/60/60/8"
      ]
    },
    {
      "cell_type": "code",
      "execution_count": 42,
      "id": "d1d156b9",
      "metadata": {
        "id": "d1d156b9",
        "outputId": "ab9cb80a-0724-463b-8e12-917b40cd3ee0",
        "colab": {
          "base_uri": "https://localhost:8080/",
          "height": 300
        }
      },
      "outputs": [
        {
          "output_type": "execute_result",
          "data": {
            "text/plain": [
              "<matplotlib.axes._subplots.AxesSubplot at 0x7f259dc54c50>"
            ]
          },
          "metadata": {},
          "execution_count": 42
        },
        {
          "output_type": "display_data",
          "data": {
            "text/plain": [
              "<Figure size 432x288 with 1 Axes>"
            ],
            "image/png": "[encoded data removed]"
          },
          "metadata": {
            "needs_background": "light"
          }
        }
      ],
      "source": [
        "\"\"\"\n",
        "Построим диаграмму рассеяния, показывающую зависимость правильных ответов от кол-ва сделанных заданий\n",
        "Ограничим выборку студентами, не бросившими обучение сразу.\n",
        "\"\"\"\n",
        "students[(students['ques_quant'] < 1000) & (students['time'] > 3000000)].plot.scatter(x='av_grade', y='ques_quant', c='red')\n",
        "\n",
        "# чтобы убрать выбросы, ограничим данные сверху 1000\n",
        "# На графике довольно очевидна связь успеваемости с кол-вом отвеченных вопросов\n",
        "# Стоит провести группировку вопросов по кол-ву для дальнейшего анализа"
      ]
    },
    {
      "cell_type": "code",
      "execution_count": 43,
      "id": "5454028e",
      "metadata": {
        "id": "5454028e"
      },
      "outputs": [],
      "source": [
        "\"\"\"\n",
        "Построим новый столбец с группировкой по кол-ву отвеченных вопросов\n",
        "Далее строим диаграмму размаха\n",
        "\"\"\"\n",
        "def ques_convert(e):\n",
        "    if e < students['ques_quant'].quantile(0.1): return 0\n",
        "    elif e < students['ques_quant'].quantile(0.2): return 1\n",
        "    elif e < students['ques_quant'].quantile(0.3): return 2\n",
        "    elif e < students['ques_quant'].quantile(0.4): return 3\n",
        "    elif e < students['ques_quant'].quantile(0.5): return 4\n",
        "    elif e < students['ques_quant'].quantile(0.6): return 5\n",
        "    elif e < students['ques_quant'].quantile(0.7): return 6\n",
        "    elif e < students['ques_quant'].quantile(0.8): return 7\n",
        "    elif e < students['ques_quant'].quantile(0.9): return 8\n",
        "    else: return 9\n",
        "    \n",
        "students['q_group'] = students['ques_quant'].apply(ques_convert)"
      ]
    },
    {
      "cell_type": "code",
      "execution_count": 44,
      "id": "359ccb6d",
      "metadata": {
        "id": "359ccb6d",
        "outputId": "0b2d8be6-e940-499f-a87e-3c2e940c80ec",
        "colab": {
          "base_uri": "https://localhost:8080/",
          "height": 373
        }
      },
      "outputs": [
        {
          "output_type": "stream",
          "name": "stderr",
          "text": [
            "/usr/local/lib/python3.7/dist-packages/matplotlib/cbook/__init__.py:1376: VisibleDeprecationWarning: Creating an ndarray from ragged nested sequences (which is a list-or-tuple of lists-or-tuples-or ndarrays with different lengths or shapes) is deprecated. If you meant to do this, you must specify 'dtype=object' when creating the ndarray.\n",
            "  X = np.atleast_1d(X.T if isinstance(X, np.ndarray) else np.asarray(X))\n"
          ]
        },
        {
          "output_type": "execute_result",
          "data": {
            "text/plain": [
              "<matplotlib.axes._subplots.AxesSubplot at 0x7f259d36c4d0>"
            ]
          },
          "metadata": {},
          "execution_count": 44
        },
        {
          "output_type": "display_data",
          "data": {
            "text/plain": [
              "<Figure size 432x288 with 1 Axes>"
            ],
            "image/png": "[encoded data removed]"
          },
          "metadata": {
            "needs_background": "light"
          }
        }
      ],
      "source": [
        "students.boxplot(column=['av_grade'], by=['q_group'])\n",
        "\n",
        "# Мы видим странную просадку в 4м квартиле"
      ]
    },
    {
      "cell_type": "code",
      "execution_count": 45,
      "id": "9a7c8df2",
      "metadata": {
        "id": "9a7c8df2",
        "outputId": "137a5cca-2888-4f65-97d2-56826b886b20",
        "colab": {
          "base_uri": "https://localhost:8080/"
        }
      },
      "outputs": [
        {
          "output_type": "execute_result",
          "data": {
            "text/plain": [
              "31.600000000000023"
            ]
          },
          "metadata": {},
          "execution_count": 45
        }
      ],
      "source": [
        "students['ques_quant'].quantile(0.4)"
      ]
    },
    {
      "cell_type": "code",
      "execution_count": 46,
      "id": "1df3f17d",
      "metadata": {
        "id": "1df3f17d",
        "outputId": "ae18d64d-2417-4675-a5e0-b616f2f95886",
        "colab": {
          "base_uri": "https://localhost:8080/",
          "height": 315
        }
      },
      "outputs": [
        {
          "output_type": "execute_result",
          "data": {
            "text/plain": [
              "array([[<matplotlib.axes._subplots.AxesSubplot object at 0x7f259d1e20d0>]],\n",
              "      dtype=object)"
            ]
          },
          "metadata": {},
          "execution_count": 46
        },
        {
          "output_type": "display_data",
          "data": {
            "text/plain": [
              "<Figure size 432x288 with 1 Axes>"
            ],
            "image/png": "[encoded data removed]"
          },
          "metadata": {
            "needs_background": "light"
          }
        }
      ],
      "source": [
        "# Можем предположить, что первые вопросы являются сильным демотиватором для учащегося.\n",
        "# Но если студент отвечает больше, чем на 34 вопроса, он постепенно начинает улучшать свои показатели\n",
        "# И дальше результаты только улучшаются\n",
        "# На гистограме видно, что 32 вопроса - порог отсечения для многих студентов из выборки\n",
        "\n",
        "students[(students['ques_quant'] < students['ques_quant'].quantile(0.5))].hist(column=['ques_quant'])"
      ]
    },
    {
      "cell_type": "code",
      "execution_count": 48,
      "id": "87553449",
      "metadata": {
        "id": "87553449",
        "outputId": "b7489cf6-cf58-49cf-acf3-025f4629abe4",
        "colab": {
          "base_uri": "https://localhost:8080/",
          "height": 297
        }
      },
      "outputs": [
        {
          "output_type": "execute_result",
          "data": {
            "text/plain": [
              "<matplotlib.axes._subplots.AxesSubplot at 0x7f259d0ced10>"
            ]
          },
          "metadata": {},
          "execution_count": 48
        },
        {
          "output_type": "display_data",
          "data": {
            "text/plain": [
              "<Figure size 432x288 with 1 Axes>"
            ],
            "image/png": "[encoded data removed]"
          },
          "metadata": {
            "needs_background": "light"
          }
        }
      ],
      "source": [
        "\"\"\"\n",
        "Построим диаграмму рассеяния, показывающую зависимость правильных ответов от кол-ва просмотренных объяснений\n",
        "\"\"\"\n",
        "students[(students['expl_watched'] < 500)].plot.scatter(x='av_grade', y='expl_watched', c='green')"
      ]
    },
    {
      "cell_type": "code",
      "execution_count": 49,
      "id": "c5bce293",
      "metadata": {
        "id": "c5bce293"
      },
      "outputs": [],
      "source": [
        "\"\"\"\n",
        "Построим новый столбец с группировкой по кол-ву правильных ответов\n",
        "Далее строим диаграмму размаха\n",
        "\"\"\"\n",
        "def expl_convert(e):\n",
        "    if e < students['expl_watched'].quantile(0.1): return 0\n",
        "    elif e < students['expl_watched'].quantile(0.2): return 1\n",
        "    elif e < students['expl_watched'].quantile(0.3): return 2\n",
        "    elif e < students['expl_watched'].quantile(0.4): return 3\n",
        "    elif e < students['expl_watched'].quantile(0.5): return 4\n",
        "    elif e < students['expl_watched'].quantile(0.6): return 5\n",
        "    elif e < students['expl_watched'].quantile(0.7): return 6\n",
        "    elif e < students['expl_watched'].quantile(0.8): return 7\n",
        "    elif e < students['expl_watched'].quantile(0.9): return 8\n",
        "    else: return 9\n",
        "    \n",
        "students['e_group'] = students['expl_watched'].apply(expl_convert)"
      ]
    },
    {
      "cell_type": "code",
      "execution_count": 50,
      "id": "59ad2c28",
      "metadata": {
        "id": "59ad2c28",
        "outputId": "c8a19c6c-9273-4c89-98c7-cf7abe40967e",
        "colab": {
          "base_uri": "https://localhost:8080/"
        }
      },
      "outputs": [
        {
          "output_type": "execute_result",
          "data": {
            "text/plain": [
              "22.5"
            ]
          },
          "metadata": {},
          "execution_count": 50
        }
      ],
      "source": [
        "students['expl_watched'].quantile(0.5)"
      ]
    },
    {
      "cell_type": "code",
      "execution_count": 51,
      "id": "ed71865d",
      "metadata": {
        "id": "ed71865d",
        "outputId": "caa917d2-ef9b-47ec-e0d3-352b2403af12",
        "colab": {
          "base_uri": "https://localhost:8080/",
          "height": 315
        }
      },
      "outputs": [
        {
          "output_type": "execute_result",
          "data": {
            "text/plain": [
              "array([[<matplotlib.axes._subplots.AxesSubplot object at 0x7f259d049fd0>]],\n",
              "      dtype=object)"
            ]
          },
          "metadata": {},
          "execution_count": 51
        },
        {
          "output_type": "display_data",
          "data": {
            "text/plain": [
              "<Figure size 432x288 with 1 Axes>"
            ],
            "image/png": "[encoded data removed]"
          },
          "metadata": {
            "needs_background": "light"
          }
        }
      ],
      "source": [
        "# здесь мы видим, что 34 вопроса - порог отсечения для многих студентов\n",
        "students[(students['expl_watched'] < students['expl_watched'].quantile(0.8))].hist(column=['expl_watched'])"
      ]
    },
    {
      "cell_type": "code",
      "execution_count": 52,
      "id": "7523c809",
      "metadata": {
        "id": "7523c809",
        "outputId": "63e8340c-b400-47b2-8055-53e6459cf8b9",
        "colab": {
          "base_uri": "https://localhost:8080/",
          "height": 373
        }
      },
      "outputs": [
        {
          "output_type": "stream",
          "name": "stderr",
          "text": [
            "/usr/local/lib/python3.7/dist-packages/matplotlib/cbook/__init__.py:1376: VisibleDeprecationWarning: Creating an ndarray from ragged nested sequences (which is a list-or-tuple of lists-or-tuples-or ndarrays with different lengths or shapes) is deprecated. If you meant to do this, you must specify 'dtype=object' when creating the ndarray.\n",
            "  X = np.atleast_1d(X.T if isinstance(X, np.ndarray) else np.asarray(X))\n"
          ]
        },
        {
          "output_type": "execute_result",
          "data": {
            "text/plain": [
              "<matplotlib.axes._subplots.AxesSubplot at 0x7f259d0b0390>"
            ]
          },
          "metadata": {},
          "execution_count": 52
        },
        {
          "output_type": "display_data",
          "data": {
            "text/plain": [
              "<Figure size 432x288 with 1 Axes>"
            ],
            "image/png": "[encoded data removed]"
          },
          "metadata": {
            "needs_background": "light"
          }
        }
      ],
      "source": [
        "students.boxplot(column=['av_grade'], by=['e_group'])\n",
        "\n",
        "# Видно четкий тренд на повышение оценки с ростом кол-ва просмотренных объяснений"
      ]
    },
    {
      "cell_type": "code",
      "execution_count": 53,
      "id": "1377bda0",
      "metadata": {
        "id": "1377bda0",
        "outputId": "8006953d-c89e-4793-c3d9-f118e0a32ba7",
        "colab": {
          "base_uri": "https://localhost:8080/",
          "height": 297
        }
      },
      "outputs": [
        {
          "output_type": "execute_result",
          "data": {
            "text/plain": [
              "<matplotlib.axes._subplots.AxesSubplot at 0x7f259cee07d0>"
            ]
          },
          "metadata": {},
          "execution_count": 53
        },
        {
          "output_type": "display_data",
          "data": {
            "text/plain": [
              "<Figure size 432x288 with 1 Axes>"
            ],
            "image/png": "[encoded data removed]"
          },
          "metadata": {
            "needs_background": "light"
          }
        }
      ],
      "source": [
        "\"\"\"\n",
        "Построим диаграмму рассеяния, показывающую зависимость правильных ответов от кол-ва просмотренных лекций\n",
        "\"\"\"\n",
        "students[students['lec_watched'] < 21].plot.scatter(x='av_grade', y='lec_watched', c='green')\n",
        "\n",
        "# Мы видим, что экстремальные выбросы можно убрать, ограничив число 21 лекцией"
      ]
    },
    {
      "cell_type": "code",
      "execution_count": 54,
      "id": "3de97bd7",
      "metadata": {
        "id": "3de97bd7",
        "outputId": "07cab5ad-97ac-4f6d-bcfd-af65bcc50223",
        "colab": {
          "base_uri": "https://localhost:8080/",
          "height": 373
        }
      },
      "outputs": [
        {
          "output_type": "stream",
          "name": "stderr",
          "text": [
            "/usr/local/lib/python3.7/dist-packages/matplotlib/cbook/__init__.py:1376: VisibleDeprecationWarning: Creating an ndarray from ragged nested sequences (which is a list-or-tuple of lists-or-tuples-or ndarrays with different lengths or shapes) is deprecated. If you meant to do this, you must specify 'dtype=object' when creating the ndarray.\n",
            "  X = np.atleast_1d(X.T if isinstance(X, np.ndarray) else np.asarray(X))\n"
          ]
        },
        {
          "output_type": "execute_result",
          "data": {
            "text/plain": [
              "<matplotlib.axes._subplots.AxesSubplot at 0x7f259ce4ff50>"
            ]
          },
          "metadata": {},
          "execution_count": 54
        },
        {
          "output_type": "display_data",
          "data": {
            "text/plain": [
              "<Figure size 432x288 with 1 Axes>"
            ],
            "image/png": "[encoded data removed]"
          },
          "metadata": {
            "needs_background": "light"
          }
        }
      ],
      "source": [
        "\"\"\"\n",
        "Построим диаграмму размаха, показывающую зависимость правильных ответов от кол-ва просмотренных лекций\n",
        "\"\"\"\n",
        "students[students['lec_watched'] < 21].boxplot(column=['av_grade'], by=['lec_watched'])\n",
        "\n",
        "# Можно сделать вывод, что даже просмотр 1 леции повышает средний балл и значительно повышает минимальную оценку студента.\n",
        "# Максимальный эффект достигается при просмотре 4-11 лекций, после чего эффективность просмотров снижается"
      ]
    },
    {
      "cell_type": "markdown",
      "id": "76754982",
      "metadata": {
        "id": "76754982"
      },
      "source": [
        "### Основные выводы по разделу 2\n",
        "\n",
        "Мы сделали выборку из общего объема данных по 500 студентам. \n",
        "С учетом проведенного анализа мы можем сделать следующие выводы:\n",
        "\n",
        "1. Треть студентов бросает учебу, проведя на платформе менее 42 минут. За это время, вероятно, они не успевают почувствовать эффект, либо им просто что-то не нравится (недостаточно мотивации / слишком сложные вопросы / неудобный интерфейс и т.д.).\n",
        "\n",
        "2. Если студент потратил на занятия не менее 55 часов, его оценка становится устойчиво выше средней и продолжает расти со временем. \n",
        "\n",
        "3. Если курс не пройден за ~ полгода, оценка становится нестабильной. Т.е. стоит не только стимулировать студентов не бросать занятия после первого подхода, но и закончить курс за первые полгода обучения.\n",
        "\n",
        "4. Анализ данных по кол-ву отвеченных вопросов подсказывает, что первые вопросы сильно демотивируют учащихся. Большая часть не преодолевает порог в 32 вопроса. Следует стимуляровать студентов к ответу хотя бы на первые 60 вопросов, чтобы добиться устойчивого улучшения результатов и мотивации к дальнейшему обучению.\n",
        "\n",
        "5. С ростом кол-ва просмотренных объяснений устойчиво растет успеваемость студентов.\n",
        "\n",
        "6. Если студент посмотрит более 4х лекций, его успеваемость значительно возрастет. При этом просмотр более 11 лекций по какой-то причине не улучшает ситуацию."
      ]
    },
    {
      "cell_type": "markdown",
      "id": "ef5c9eaf",
      "metadata": {
        "id": "ef5c9eaf"
      },
      "source": [
        "---"
      ]
    },
    {
      "cell_type": "markdown",
      "id": "9c3d4889",
      "metadata": {
        "id": "9c3d4889"
      },
      "source": [
        "## 3. Добавим к исследованию данные из дополнительных файлов\n",
        "\n",
        "### Исследуем данные \"Вопросы\"\n",
        "questions.csv\n",
        "- **question_id:** внешний ключ вопроса - соответствует content_id\n",
        "- **bundle_id:** код, по которому вопросы отдаются совместно\n",
        "- **correct_answer:** правильный ответ. Можно использовать для проверки правильности user_answer\n",
        "- **part:** номер раздела в тесте TOEIC\n",
        "- **tags:** кодировка типа вопроса, можно использовать для кластеризации вопросов"
      ]
    },
    {
      "cell_type": "code",
      "execution_count": 91,
      "id": "09898cdb",
      "metadata": {
        "id": "09898cdb",
        "outputId": "24bec7dd-8a79-4973-90ac-ef9e4dfb8c30",
        "colab": {
          "base_uri": "https://localhost:8080/"
        }
      },
      "outputs": [
        {
          "output_type": "stream",
          "name": "stdout",
          "text": [
            "<class 'pandas.core.frame.DataFrame'>\n",
            "RangeIndex: 13523 entries, 0 to 13522\n",
            "Data columns (total 5 columns):\n",
            " #   Column          Non-Null Count  Dtype \n",
            "---  ------          --------------  ----- \n",
            " 0   question_id     13523 non-null  int16 \n",
            " 1   bundle_id       13523 non-null  int16 \n",
            " 2   correct_answer  13523 non-null  int8  \n",
            " 3   part            13523 non-null  int8  \n",
            " 4   tags            13522 non-null  object\n",
            "dtypes: int16(2), int8(2), object(1)\n",
            "memory usage: 185.0+ KB\n"
          ]
        }
      ],
      "source": [
        "questions = pd.read_csv(path_to_file+'questions.csv', sep=',',\n",
        "                        dtype = {'question_id': 'int16', 'bundle_id': 'int16', 'correct_answer': 'int8',\n",
        "                                 'part': 'int8', 'tags': 'object'\n",
        "                               })\n",
        "questions.info()"
      ]
    },
    {
      "cell_type": "code",
      "execution_count": 57,
      "id": "d3e1f1d5",
      "metadata": {
        "id": "d3e1f1d5",
        "outputId": "72b9cd02-d2af-4f11-a7d9-736c495dfe43",
        "colab": {
          "base_uri": "https://localhost:8080/",
          "height": 204
        }
      },
      "outputs": [
        {
          "output_type": "display_data",
          "data": {
            "text/plain": [
              "      Column_Name  Num_Unique    Type\n",
              "0  correct_answer           4    int8\n",
              "1            part           7    int8\n",
              "2            tags        1519  object\n",
              "3       bundle_id        9765   int16\n",
              "4     question_id       13523   int16"
            ],
            "text/html": [
              "\n",
              "  <div id=\"df-2c519687-615e-4d45-b02c-2761f02152bc\">\n",
              "    <div class=\"colab-df-container\">\n",
              "      <div>\n",
              "<style scoped>\n",
              "    .dataframe tbody tr th:only-of-type {\n",
              "        vertical-align: middle;\n",
              "    }\n",
              "\n",
              "    .dataframe tbody tr th {\n",
              "        vertical-align: top;\n",
              "    }\n",
              "\n",
              "    .dataframe thead th {\n",
              "        text-align: right;\n",
              "    }\n",
              "</style>\n",
              "<table border=\"1\" class=\"dataframe\">\n",
              "  <thead>\n",
              "    <tr style=\"text-align: right;\">\n",
              "      <th></th>\n",
              "      <th>Column_Name</th>\n",
              "      <th>Num_Unique</th>\n",
              "      <th>Type</th>\n",
              "    </tr>\n",
              "  </thead>\n",
              "  <tbody>\n",
              "    <tr>\n",
              "      <th>0</th>\n",
              "      <td>correct_answer</td>\n",
              "      <td>4</td>\n",
              "      <td>int8</td>\n",
              "    </tr>\n",
              "    <tr>\n",
              "      <th>1</th>\n",
              "      <td>part</td>\n",
              "      <td>7</td>\n",
              "      <td>int8</td>\n",
              "    </tr>\n",
              "    <tr>\n",
              "      <th>2</th>\n",
              "      <td>tags</td>\n",
              "      <td>1519</td>\n",
              "      <td>object</td>\n",
              "    </tr>\n",
              "    <tr>\n",
              "      <th>3</th>\n",
              "      <td>bundle_id</td>\n",
              "      <td>9765</td>\n",
              "      <td>int16</td>\n",
              "    </tr>\n",
              "    <tr>\n",
              "      <th>4</th>\n",
              "      <td>question_id</td>\n",
              "      <td>13523</td>\n",
              "      <td>int16</td>\n",
              "    </tr>\n",
              "  </tbody>\n",
              "</table>\n",
              "</div>\n",
              "      <button class=\"colab-df-convert\" onclick=\"convertToInteractive('df-2c519687-615e-4d45-b02c-2761f02152bc')\"\n",
              "              title=\"Convert this dataframe to an interactive table.\"\n",
              "              style=\"display:none;\">\n",
              "        \n",
              "  <svg xmlns=\"http://www.w3.org/2000/svg\" height=\"24px\"viewBox=\"0 0 24 24\"\n",
              "       width=\"24px\">\n",
              "    <path d=\"M0 0h24v24H0V0z\" fill=\"none\"/>\n",
              "    <path d=\"M18.56 5.44l.94 2.06.94-2.06 2.06-.94-2.06-.94-.94-2.06-.94 2.06-2.06.94zm-11 1L8.5 8.5l.94-2.06 2.06-.94-2.06-.94L8.5 2.5l-.94 2.06-2.06.94zm10 10l.94 2.06.94-2.06 2.06-.94-2.06-.94-.94-2.06-.94 2.06-2.06.94z\"/><path d=\"M17.41 7.96l-1.37-1.37c-.4-.4-.92-.59-1.43-.59-.52 0-1.04.2-1.43.59L10.3 9.45l-7.72 7.72c-.78.78-.78 2.05 0 2.83L4 21.41c.39.39.9.59 1.41.59.51 0 1.02-.2 1.41-.59l7.78-7.78 2.81-2.81c.8-.78.8-2.07 0-2.86zM5.41 20L4 18.59l7.72-7.72 1.47 1.35L5.41 20z\"/>\n",
              "  </svg>\n",
              "      </button>\n",
              "      \n",
              "  <style>\n",
              "    .colab-df-container {\n",
              "      display:flex;\n",
              "      flex-wrap:wrap;\n",
              "      gap: 12px;\n",
              "    }\n",
              "\n",
              "    .colab-df-convert {\n",
              "      background-color: #E8F0FE;\n",
              "      border: none;\n",
              "      border-radius: 50%;\n",
              "      cursor: pointer;\n",
              "      display: none;\n",
              "      fill: #1967D2;\n",
              "      height: 32px;\n",
              "      padding: 0 0 0 0;\n",
              "      width: 32px;\n",
              "    }\n",
              "\n",
              "    .colab-df-convert:hover {\n",
              "      background-color: #E2EBFA;\n",
              "      box-shadow: 0px 1px 2px rgba(60, 64, 67, 0.3), 0px 1px 3px 1px rgba(60, 64, 67, 0.15);\n",
              "      fill: #174EA6;\n",
              "    }\n",
              "\n",
              "    [theme=dark] .colab-df-convert {\n",
              "      background-color: #3B4455;\n",
              "      fill: #D2E3FC;\n",
              "    }\n",
              "\n",
              "    [theme=dark] .colab-df-convert:hover {\n",
              "      background-color: #434B5C;\n",
              "      box-shadow: 0px 1px 3px 1px rgba(0, 0, 0, 0.15);\n",
              "      filter: drop-shadow(0px 1px 2px rgba(0, 0, 0, 0.3));\n",
              "      fill: #FFFFFF;\n",
              "    }\n",
              "  </style>\n",
              "\n",
              "      <script>\n",
              "        const buttonEl =\n",
              "          document.querySelector('#df-2c519687-615e-4d45-b02c-2761f02152bc button.colab-df-convert');\n",
              "        buttonEl.style.display =\n",
              "          google.colab.kernel.accessAllowed ? 'block' : 'none';\n",
              "\n",
              "        async function convertToInteractive(key) {\n",
              "          const element = document.querySelector('#df-2c519687-615e-4d45-b02c-2761f02152bc');\n",
              "          const dataTable =\n",
              "            await google.colab.kernel.invokeFunction('convertToInteractive',\n",
              "                                                     [key], {});\n",
              "          if (!dataTable) return;\n",
              "\n",
              "          const docLinkHtml = 'Like what you see? Visit the ' +\n",
              "            '<a target=\"_blank\" href=https://colab.research.google.com/notebooks/data_table.ipynb>data table notebook</a>'\n",
              "            + ' to learn more about interactive tables.';\n",
              "          element.innerHTML = '';\n",
              "          dataTable['output_type'] = 'display_data';\n",
              "          await google.colab.output.renderOutput(dataTable, element);\n",
              "          const docLink = document.createElement('div');\n",
              "          docLink.innerHTML = docLinkHtml;\n",
              "          element.appendChild(docLink);\n",
              "        }\n",
              "      </script>\n",
              "    </div>\n",
              "  </div>\n",
              "  "
            ]
          },
          "metadata": {}
        }
      ],
      "source": [
        "\"\"\"\n",
        "Исследуем кол-во уникальных значений для разных колонок\n",
        "\"\"\"\n",
        "unique_list_q = []\n",
        "for col in questions.columns:\n",
        "    item = (col, questions[col].nunique(), questions[col].dtype)\n",
        "    unique_list_q.append(item)\n",
        "unique_counts_q = pd.DataFrame(unique_list_q,\n",
        "                               columns=['Column_Name', 'Num_Unique', 'Type']\n",
        "                              ).sort_values(by='Num_Unique',  ignore_index=True)\n",
        "display(unique_counts_q)"
      ]
    },
    {
      "cell_type": "code",
      "execution_count": 58,
      "id": "72f4a8a7",
      "metadata": {
        "id": "72f4a8a7",
        "outputId": "8a80332d-2308-4ffb-9b73-a7274585f0b5",
        "colab": {
          "base_uri": "https://localhost:8080/"
        }
      },
      "outputs": [
        {
          "output_type": "execute_result",
          "data": {
            "text/plain": [
              "count     13522\n",
              "unique     1519\n",
              "top           8\n",
              "freq        738\n",
              "Name: tags, dtype: object"
            ]
          },
          "metadata": {},
          "execution_count": 58
        }
      ],
      "source": [
        "questions['question_id'].groupby(questions['bundle_id']).count().max()\n",
        "questions['part'].value_counts(normalize=True)\n",
        "questions['tags'].describe()\n",
        "\n",
        "# Часть вопросов объединены по bundle_id в блоки до 5 вопросов, хотя большинство представлены по одиночке\n",
        "# Задачи разделены по темам на 7 разделов, больше всего посвящено 5му разделу, 2, 3 и 4"
      ]
    },
    {
      "cell_type": "code",
      "execution_count": 59,
      "id": "2f228362",
      "metadata": {
        "id": "2f228362",
        "outputId": "f97519c1-6c81-40f5-ee93-d3c53ca31d27",
        "colab": {
          "base_uri": "https://localhost:8080/"
        }
      },
      "outputs": [
        {
          "output_type": "execute_result",
          "data": {
            "text/plain": [
              "188"
            ]
          },
          "metadata": {},
          "execution_count": 59
        }
      ],
      "source": [
        "q_tags = set()\n",
        "for tag in questions['tags']:\n",
        "    try:\n",
        "        for t in tag.split():\n",
        "                q_tags.add(int(t))\n",
        "    except:\n",
        "        q_tags.add(int(t))\n",
        "len(q_tags)\n",
        "\n",
        "# Можно провести доп исследование вопросов, используя кластеризацию по 188 доп.признакам 'tags'"
      ]
    },
    {
      "cell_type": "code",
      "execution_count": 60,
      "id": "70d616ca",
      "metadata": {
        "id": "70d616ca"
      },
      "outputs": [],
      "source": [
        "\"\"\"\n",
        "Для дальнейшего исследования вопросов создадим единую таблицу по их ID с данными Train\n",
        "\"\"\"\n",
        "tmp_df = train.loc[(train.content_type_id == 0), ['content_id', 'answered_correctly']]"
      ]
    },
    {
      "cell_type": "code",
      "execution_count": 61,
      "id": "baf72937",
      "metadata": {
        "id": "baf72937",
        "outputId": "549cd3f6-cd78-4cc3-91b8-612b26571225",
        "colab": {
          "base_uri": "https://localhost:8080/"
        }
      },
      "outputs": [
        {
          "output_type": "execute_result",
          "data": {
            "text/plain": [
              "13171"
            ]
          },
          "metadata": {},
          "execution_count": 61
        }
      ],
      "source": [
        "\"\"\"\n",
        "Столбец question_id:\n",
        "\"\"\"\n",
        "q_list = list(tmp_df['content_id'].unique())\n",
        "len(q_list)\n",
        "\n",
        "# Всего 13523 уникальных вопросов. Мы берем этот список из файла Train, чтобы иметь правильный порядок данных"
      ]
    },
    {
      "cell_type": "code",
      "execution_count": 62,
      "id": "b4462314",
      "metadata": {
        "scrolled": true,
        "id": "b4462314"
      },
      "outputs": [],
      "source": [
        "\"\"\"\n",
        "Столбцы :\n",
        "q_quant - общее количество ответов для каждого id\n",
        "correct_quant - количество правильных ответов для каждого id\n",
        "\"\"\"\n",
        "q_quant = []\n",
        "correct_quant = []\n",
        "for q in q_list:\n",
        "    tmp = tmp_df[tmp_df['content_id'] == q]['answered_correctly'].count()\n",
        "    tmp1 = tmp_df[tmp_df['content_id'] == q]['answered_correctly'].sum()\n",
        "    q_quant.append(tmp)\n",
        "    correct_quant.append(tmp1)"
      ]
    },
    {
      "cell_type": "code",
      "execution_count": 63,
      "id": "a3d10d6b",
      "metadata": {
        "id": "a3d10d6b"
      },
      "outputs": [],
      "source": [
        "\"\"\"\n",
        "Запишем полученные данные в единую таблицу\n",
        "\"\"\"\n",
        "q_ex = pd.DataFrame({'question_id': q_list,\n",
        "                        'q_quant': q_quant,\n",
        "                        'correct_quant': correct_quant\n",
        "                       }\n",
        "                      )\n",
        "q_ex = q_ex.astype({'question_id': 'int16', 'q_quant': 'int32', 'correct_quant': 'int32'})"
      ]
    },
    {
      "cell_type": "code",
      "execution_count": 64,
      "id": "2c2d0393",
      "metadata": {
        "id": "2c2d0393"
      },
      "outputs": [],
      "source": [
        "\"\"\"\n",
        "Внесем полученные данные в таблицу questions (пересечением),\n",
        "вначале удалив ненужные столбцы\n",
        "\"\"\"\n",
        "questions = questions.drop('correct_answer', axis=1)\n",
        "questions = pd.merge(questions, q_ex, how='inner')"
      ]
    },
    {
      "cell_type": "code",
      "execution_count": 65,
      "id": "23d64f40",
      "metadata": {
        "id": "23d64f40",
        "outputId": "f95e7ad4-e129-4aec-f0ca-b5d45a669b5e",
        "colab": {
          "base_uri": "https://localhost:8080/",
          "height": 297
        }
      },
      "outputs": [
        {
          "output_type": "execute_result",
          "data": {
            "text/plain": [
              "        question_id     bundle_id          part       q_quant  correct_quant  \\\n",
              "count  13171.000000  13171.000000  13171.000000  13171.000000   13171.000000   \n",
              "mean    6702.281300   6701.798497      4.282818     78.024903      50.768582   \n",
              "std     3876.363838   3876.322380      1.637857    118.635747      66.959302   \n",
              "min        0.000000      0.000000      1.000000      1.000000       0.000000   \n",
              "25%     3360.500000   3360.000000      3.000000     22.000000      15.000000   \n",
              "50%     6691.000000   6689.000000      5.000000     52.000000      34.000000   \n",
              "75%    10055.500000  10054.000000      5.000000     89.000000      61.000000   \n",
              "max    13522.000000  13522.000000      7.000000   2134.000000    1505.000000   \n",
              "\n",
              "       correct_percent  \n",
              "count     13171.000000  \n",
              "mean          0.692718  \n",
              "std           0.203888  \n",
              "min           0.000000  \n",
              "25%           0.574468  \n",
              "50%           0.717949  \n",
              "75%           0.838547  \n",
              "max           1.000000  "
            ],
            "text/html": [
              "\n",
              "  <div id=\"df-b01e9d0a-b163-4fb1-a624-cf01d926f699\">\n",
              "    <div class=\"colab-df-container\">\n",
              "      <div>\n",
              "<style scoped>\n",
              "    .dataframe tbody tr th:only-of-type {\n",
              "        vertical-align: middle;\n",
              "    }\n",
              "\n",
              "    .dataframe tbody tr th {\n",
              "        vertical-align: top;\n",
              "    }\n",
              "\n",
              "    .dataframe thead th {\n",
              "        text-align: right;\n",
              "    }\n",
              "</style>\n",
              "<table border=\"1\" class=\"dataframe\">\n",
              "  <thead>\n",
              "    <tr style=\"text-align: right;\">\n",
              "      <th></th>\n",
              "      <th>question_id</th>\n",
              "      <th>bundle_id</th>\n",
              "      <th>part</th>\n",
              "      <th>q_quant</th>\n",
              "      <th>correct_quant</th>\n",
              "      <th>correct_percent</th>\n",
              "    </tr>\n",
              "  </thead>\n",
              "  <tbody>\n",
              "    <tr>\n",
              "      <th>count</th>\n",
              "      <td>13171.000000</td>\n",
              "      <td>13171.000000</td>\n",
              "      <td>13171.000000</td>\n",
              "      <td>13171.000000</td>\n",
              "      <td>13171.000000</td>\n",
              "      <td>13171.000000</td>\n",
              "    </tr>\n",
              "    <tr>\n",
              "      <th>mean</th>\n",
              "      <td>6702.281300</td>\n",
              "      <td>6701.798497</td>\n",
              "      <td>4.282818</td>\n",
              "      <td>78.024903</td>\n",
              "      <td>50.768582</td>\n",
              "      <td>0.692718</td>\n",
              "    </tr>\n",
              "    <tr>\n",
              "      <th>std</th>\n",
              "      <td>3876.363838</td>\n",
              "      <td>3876.322380</td>\n",
              "      <td>1.637857</td>\n",
              "      <td>118.635747</td>\n",
              "      <td>66.959302</td>\n",
              "      <td>0.203888</td>\n",
              "    </tr>\n",
              "    <tr>\n",
              "      <th>min</th>\n",
              "      <td>0.000000</td>\n",
              "      <td>0.000000</td>\n",
              "      <td>1.000000</td>\n",
              "      <td>1.000000</td>\n",
              "      <td>0.000000</td>\n",
              "      <td>0.000000</td>\n",
              "    </tr>\n",
              "    <tr>\n",
              "      <th>25%</th>\n",
              "      <td>3360.500000</td>\n",
              "      <td>3360.000000</td>\n",
              "      <td>3.000000</td>\n",
              "      <td>22.000000</td>\n",
              "      <td>15.000000</td>\n",
              "      <td>0.574468</td>\n",
              "    </tr>\n",
              "    <tr>\n",
              "      <th>50%</th>\n",
              "      <td>6691.000000</td>\n",
              "      <td>6689.000000</td>\n",
              "      <td>5.000000</td>\n",
              "      <td>52.000000</td>\n",
              "      <td>34.000000</td>\n",
              "      <td>0.717949</td>\n",
              "    </tr>\n",
              "    <tr>\n",
              "      <th>75%</th>\n",
              "      <td>10055.500000</td>\n",
              "      <td>10054.000000</td>\n",
              "      <td>5.000000</td>\n",
              "      <td>89.000000</td>\n",
              "      <td>61.000000</td>\n",
              "      <td>0.838547</td>\n",
              "    </tr>\n",
              "    <tr>\n",
              "      <th>max</th>\n",
              "      <td>13522.000000</td>\n",
              "      <td>13522.000000</td>\n",
              "      <td>7.000000</td>\n",
              "      <td>2134.000000</td>\n",
              "      <td>1505.000000</td>\n",
              "      <td>1.000000</td>\n",
              "    </tr>\n",
              "  </tbody>\n",
              "</table>\n",
              "</div>\n",
              "      <button class=\"colab-df-convert\" onclick=\"convertToInteractive('df-b01e9d0a-b163-4fb1-a624-cf01d926f699')\"\n",
              "              title=\"Convert this dataframe to an interactive table.\"\n",
              "              style=\"display:none;\">\n",
              "        \n",
              "  <svg xmlns=\"http://www.w3.org/2000/svg\" height=\"24px\"viewBox=\"0 0 24 24\"\n",
              "       width=\"24px\">\n",
              "    <path d=\"M0 0h24v24H0V0z\" fill=\"none\"/>\n",
              "    <path d=\"M18.56 5.44l.94 2.06.94-2.06 2.06-.94-2.06-.94-.94-2.06-.94 2.06-2.06.94zm-11 1L8.5 8.5l.94-2.06 2.06-.94-2.06-.94L8.5 2.5l-.94 2.06-2.06.94zm10 10l.94 2.06.94-2.06 2.06-.94-2.06-.94-.94-2.06-.94 2.06-2.06.94z\"/><path d=\"M17.41 7.96l-1.37-1.37c-.4-.4-.92-.59-1.43-.59-.52 0-1.04.2-1.43.59L10.3 9.45l-7.72 7.72c-.78.78-.78 2.05 0 2.83L4 21.41c.39.39.9.59 1.41.59.51 0 1.02-.2 1.41-.59l7.78-7.78 2.81-2.81c.8-.78.8-2.07 0-2.86zM5.41 20L4 18.59l7.72-7.72 1.47 1.35L5.41 20z\"/>\n",
              "  </svg>\n",
              "      </button>\n",
              "      \n",
              "  <style>\n",
              "    .colab-df-container {\n",
              "      display:flex;\n",
              "      flex-wrap:wrap;\n",
              "      gap: 12px;\n",
              "    }\n",
              "\n",
              "    .colab-df-convert {\n",
              "      background-color: #E8F0FE;\n",
              "      border: none;\n",
              "      border-radius: 50%;\n",
              "      cursor: pointer;\n",
              "      display: none;\n",
              "      fill: #1967D2;\n",
              "      height: 32px;\n",
              "      padding: 0 0 0 0;\n",
              "      width: 32px;\n",
              "    }\n",
              "\n",
              "    .colab-df-convert:hover {\n",
              "      background-color: #E2EBFA;\n",
              "      box-shadow: 0px 1px 2px rgba(60, 64, 67, 0.3), 0px 1px 3px 1px rgba(60, 64, 67, 0.15);\n",
              "      fill: #174EA6;\n",
              "    }\n",
              "\n",
              "    [theme=dark] .colab-df-convert {\n",
              "      background-color: #3B4455;\n",
              "      fill: #D2E3FC;\n",
              "    }\n",
              "\n",
              "    [theme=dark] .colab-df-convert:hover {\n",
              "      background-color: #434B5C;\n",
              "      box-shadow: 0px 1px 3px 1px rgba(0, 0, 0, 0.15);\n",
              "      filter: drop-shadow(0px 1px 2px rgba(0, 0, 0, 0.3));\n",
              "      fill: #FFFFFF;\n",
              "    }\n",
              "  </style>\n",
              "\n",
              "      <script>\n",
              "        const buttonEl =\n",
              "          document.querySelector('#df-b01e9d0a-b163-4fb1-a624-cf01d926f699 button.colab-df-convert');\n",
              "        buttonEl.style.display =\n",
              "          google.colab.kernel.accessAllowed ? 'block' : 'none';\n",
              "\n",
              "        async function convertToInteractive(key) {\n",
              "          const element = document.querySelector('#df-b01e9d0a-b163-4fb1-a624-cf01d926f699');\n",
              "          const dataTable =\n",
              "            await google.colab.kernel.invokeFunction('convertToInteractive',\n",
              "                                                     [key], {});\n",
              "          if (!dataTable) return;\n",
              "\n",
              "          const docLinkHtml = 'Like what you see? Visit the ' +\n",
              "            '<a target=\"_blank\" href=https://colab.research.google.com/notebooks/data_table.ipynb>data table notebook</a>'\n",
              "            + ' to learn more about interactive tables.';\n",
              "          element.innerHTML = '';\n",
              "          dataTable['output_type'] = 'display_data';\n",
              "          await google.colab.output.renderOutput(dataTable, element);\n",
              "          const docLink = document.createElement('div');\n",
              "          docLink.innerHTML = docLinkHtml;\n",
              "          element.appendChild(docLink);\n",
              "        }\n",
              "      </script>\n",
              "    </div>\n",
              "  </div>\n",
              "  "
            ]
          },
          "metadata": {},
          "execution_count": 65
        }
      ],
      "source": [
        "\"\"\"\n",
        "Добавим дополнительный столбец:\n",
        "Процент правильных ответов\n",
        "\"\"\"\n",
        "questions['correct_percent'] = questions['correct_quant'] / questions['q_quant']\n",
        "questions.describe()"
      ]
    },
    {
      "cell_type": "code",
      "execution_count": 66,
      "id": "d30b9e30",
      "metadata": {
        "id": "d30b9e30",
        "outputId": "2d24131b-4398-4d7d-de0f-3d7fd65f9e02",
        "colab": {
          "base_uri": "https://localhost:8080/",
          "height": 419
        }
      },
      "outputs": [
        {
          "output_type": "execute_result",
          "data": {
            "text/plain": [
              "       question_id  bundle_id  part            tags  q_quant  correct_quant  \\\n",
              "0                0          0     1   51 131 162 38       76             66   \n",
              "1                1          1     1       131 36 81       61             57   \n",
              "2                2          2     1  131 101 162 92      467            263   \n",
              "3                3          3     1  131 149 162 29      213            172   \n",
              "4                4          4     1    131 5 162 38      326            196   \n",
              "...            ...        ...   ...             ...      ...            ...   \n",
              "13166        13518      13518     5              14       10              7   \n",
              "13167        13519      13519     5               8        9              5   \n",
              "13168        13520      13520     5              73       10              7   \n",
              "13169        13521      13521     5             125        8              6   \n",
              "13170        13522      13522     5              55        7              5   \n",
              "\n",
              "       correct_percent  \n",
              "0             0.868421  \n",
              "1             0.934426  \n",
              "2             0.563169  \n",
              "3             0.807512  \n",
              "4             0.601227  \n",
              "...                ...  \n",
              "13166         0.700000  \n",
              "13167         0.555556  \n",
              "13168         0.700000  \n",
              "13169         0.750000  \n",
              "13170         0.714286  \n",
              "\n",
              "[13171 rows x 7 columns]"
            ],
            "text/html": [
              "\n",
              "  <div id=\"df-2c6765b7-8616-4ca3-891c-bbbb6bf7d869\">\n",
              "    <div class=\"colab-df-container\">\n",
              "      <div>\n",
              "<style scoped>\n",
              "    .dataframe tbody tr th:only-of-type {\n",
              "        vertical-align: middle;\n",
              "    }\n",
              "\n",
              "    .dataframe tbody tr th {\n",
              "        vertical-align: top;\n",
              "    }\n",
              "\n",
              "    .dataframe thead th {\n",
              "        text-align: right;\n",
              "    }\n",
              "</style>\n",
              "<table border=\"1\" class=\"dataframe\">\n",
              "  <thead>\n",
              "    <tr style=\"text-align: right;\">\n",
              "      <th></th>\n",
              "      <th>question_id</th>\n",
              "      <th>bundle_id</th>\n",
              "      <th>part</th>\n",
              "      <th>tags</th>\n",
              "      <th>q_quant</th>\n",
              "      <th>correct_quant</th>\n",
              "      <th>correct_percent</th>\n",
              "    </tr>\n",
              "  </thead>\n",
              "  <tbody>\n",
              "    <tr>\n",
              "      <th>0</th>\n",
              "      <td>0</td>\n",
              "      <td>0</td>\n",
              "      <td>1</td>\n",
              "      <td>51 131 162 38</td>\n",
              "      <td>76</td>\n",
              "      <td>66</td>\n",
              "      <td>0.868421</td>\n",
              "    </tr>\n",
              "    <tr>\n",
              "      <th>1</th>\n",
              "      <td>1</td>\n",
              "      <td>1</td>\n",
              "      <td>1</td>\n",
              "      <td>131 36 81</td>\n",
              "      <td>61</td>\n",
              "      <td>57</td>\n",
              "      <td>0.934426</td>\n",
              "    </tr>\n",
              "    <tr>\n",
              "      <th>2</th>\n",
              "      <td>2</td>\n",
              "      <td>2</td>\n",
              "      <td>1</td>\n",
              "      <td>131 101 162 92</td>\n",
              "      <td>467</td>\n",
              "      <td>263</td>\n",
              "      <td>0.563169</td>\n",
              "    </tr>\n",
              "    <tr>\n",
              "      <th>3</th>\n",
              "      <td>3</td>\n",
              "      <td>3</td>\n",
              "      <td>1</td>\n",
              "      <td>131 149 162 29</td>\n",
              "      <td>213</td>\n",
              "      <td>172</td>\n",
              "      <td>0.807512</td>\n",
              "    </tr>\n",
              "    <tr>\n",
              "      <th>4</th>\n",
              "      <td>4</td>\n",
              "      <td>4</td>\n",
              "      <td>1</td>\n",
              "      <td>131 5 162 38</td>\n",
              "      <td>326</td>\n",
              "      <td>196</td>\n",
              "      <td>0.601227</td>\n",
              "    </tr>\n",
              "    <tr>\n",
              "      <th>...</th>\n",
              "      <td>...</td>\n",
              "      <td>...</td>\n",
              "      <td>...</td>\n",
              "      <td>...</td>\n",
              "      <td>...</td>\n",
              "      <td>...</td>\n",
              "      <td>...</td>\n",
              "    </tr>\n",
              "    <tr>\n",
              "      <th>13166</th>\n",
              "      <td>13518</td>\n",
              "      <td>13518</td>\n",
              "      <td>5</td>\n",
              "      <td>14</td>\n",
              "      <td>10</td>\n",
              "      <td>7</td>\n",
              "      <td>0.700000</td>\n",
              "    </tr>\n",
              "    <tr>\n",
              "      <th>13167</th>\n",
              "      <td>13519</td>\n",
              "      <td>13519</td>\n",
              "      <td>5</td>\n",
              "      <td>8</td>\n",
              "      <td>9</td>\n",
              "      <td>5</td>\n",
              "      <td>0.555556</td>\n",
              "    </tr>\n",
              "    <tr>\n",
              "      <th>13168</th>\n",
              "      <td>13520</td>\n",
              "      <td>13520</td>\n",
              "      <td>5</td>\n",
              "      <td>73</td>\n",
              "      <td>10</td>\n",
              "      <td>7</td>\n",
              "      <td>0.700000</td>\n",
              "    </tr>\n",
              "    <tr>\n",
              "      <th>13169</th>\n",
              "      <td>13521</td>\n",
              "      <td>13521</td>\n",
              "      <td>5</td>\n",
              "      <td>125</td>\n",
              "      <td>8</td>\n",
              "      <td>6</td>\n",
              "      <td>0.750000</td>\n",
              "    </tr>\n",
              "    <tr>\n",
              "      <th>13170</th>\n",
              "      <td>13522</td>\n",
              "      <td>13522</td>\n",
              "      <td>5</td>\n",
              "      <td>55</td>\n",
              "      <td>7</td>\n",
              "      <td>5</td>\n",
              "      <td>0.714286</td>\n",
              "    </tr>\n",
              "  </tbody>\n",
              "</table>\n",
              "<p>13171 rows × 7 columns</p>\n",
              "</div>\n",
              "      <button class=\"colab-df-convert\" onclick=\"convertToInteractive('df-2c6765b7-8616-4ca3-891c-bbbb6bf7d869')\"\n",
              "              title=\"Convert this dataframe to an interactive table.\"\n",
              "              style=\"display:none;\">\n",
              "        \n",
              "  <svg xmlns=\"http://www.w3.org/2000/svg\" height=\"24px\"viewBox=\"0 0 24 24\"\n",
              "       width=\"24px\">\n",
              "    <path d=\"M0 0h24v24H0V0z\" fill=\"none\"/>\n",
              "    <path d=\"M18.56 5.44l.94 2.06.94-2.06 2.06-.94-2.06-.94-.94-2.06-.94 2.06-2.06.94zm-11 1L8.5 8.5l.94-2.06 2.06-.94-2.06-.94L8.5 2.5l-.94 2.06-2.06.94zm10 10l.94 2.06.94-2.06 2.06-.94-2.06-.94-.94-2.06-.94 2.06-2.06.94z\"/><path d=\"M17.41 7.96l-1.37-1.37c-.4-.4-.92-.59-1.43-.59-.52 0-1.04.2-1.43.59L10.3 9.45l-7.72 7.72c-.78.78-.78 2.05 0 2.83L4 21.41c.39.39.9.59 1.41.59.51 0 1.02-.2 1.41-.59l7.78-7.78 2.81-2.81c.8-.78.8-2.07 0-2.86zM5.41 20L4 18.59l7.72-7.72 1.47 1.35L5.41 20z\"/>\n",
              "  </svg>\n",
              "      </button>\n",
              "      \n",
              "  <style>\n",
              "    .colab-df-container {\n",
              "      display:flex;\n",
              "      flex-wrap:wrap;\n",
              "      gap: 12px;\n",
              "    }\n",
              "\n",
              "    .colab-df-convert {\n",
              "      background-color: #E8F0FE;\n",
              "      border: none;\n",
              "      border-radius: 50%;\n",
              "      cursor: pointer;\n",
              "      display: none;\n",
              "      fill: #1967D2;\n",
              "      height: 32px;\n",
              "      padding: 0 0 0 0;\n",
              "      width: 32px;\n",
              "    }\n",
              "\n",
              "    .colab-df-convert:hover {\n",
              "      background-color: #E2EBFA;\n",
              "      box-shadow: 0px 1px 2px rgba(60, 64, 67, 0.3), 0px 1px 3px 1px rgba(60, 64, 67, 0.15);\n",
              "      fill: #174EA6;\n",
              "    }\n",
              "\n",
              "    [theme=dark] .colab-df-convert {\n",
              "      background-color: #3B4455;\n",
              "      fill: #D2E3FC;\n",
              "    }\n",
              "\n",
              "    [theme=dark] .colab-df-convert:hover {\n",
              "      background-color: #434B5C;\n",
              "      box-shadow: 0px 1px 3px 1px rgba(0, 0, 0, 0.15);\n",
              "      filter: drop-shadow(0px 1px 2px rgba(0, 0, 0, 0.3));\n",
              "      fill: #FFFFFF;\n",
              "    }\n",
              "  </style>\n",
              "\n",
              "      <script>\n",
              "        const buttonEl =\n",
              "          document.querySelector('#df-2c6765b7-8616-4ca3-891c-bbbb6bf7d869 button.colab-df-convert');\n",
              "        buttonEl.style.display =\n",
              "          google.colab.kernel.accessAllowed ? 'block' : 'none';\n",
              "\n",
              "        async function convertToInteractive(key) {\n",
              "          const element = document.querySelector('#df-2c6765b7-8616-4ca3-891c-bbbb6bf7d869');\n",
              "          const dataTable =\n",
              "            await google.colab.kernel.invokeFunction('convertToInteractive',\n",
              "                                                     [key], {});\n",
              "          if (!dataTable) return;\n",
              "\n",
              "          const docLinkHtml = 'Like what you see? Visit the ' +\n",
              "            '<a target=\"_blank\" href=https://colab.research.google.com/notebooks/data_table.ipynb>data table notebook</a>'\n",
              "            + ' to learn more about interactive tables.';\n",
              "          element.innerHTML = '';\n",
              "          dataTable['output_type'] = 'display_data';\n",
              "          await google.colab.output.renderOutput(dataTable, element);\n",
              "          const docLink = document.createElement('div');\n",
              "          docLink.innerHTML = docLinkHtml;\n",
              "          element.appendChild(docLink);\n",
              "        }\n",
              "      </script>\n",
              "    </div>\n",
              "  </div>\n",
              "  "
            ]
          },
          "metadata": {},
          "execution_count": 66
        }
      ],
      "source": [
        "questions"
      ]
    },
    {
      "cell_type": "code",
      "execution_count": 67,
      "id": "5b10a2d0",
      "metadata": {
        "id": "5b10a2d0",
        "outputId": "419f7468-6472-4a21-90d1-783d0efae068",
        "colab": {
          "base_uri": "https://localhost:8080/"
        }
      },
      "outputs": [
        {
          "output_type": "execute_result",
          "data": {
            "text/plain": [
              "part\n",
              "5    0.654597\n",
              "6    0.667856\n",
              "7    0.690318\n",
              "4    0.691693\n",
              "3    0.738041\n",
              "2    0.741202\n",
              "1    0.799275\n",
              "Name: correct_percent, dtype: float64"
            ]
          },
          "metadata": {},
          "execution_count": 67
        }
      ],
      "source": [
        "\"\"\"\n",
        "Посмотрим дополнительные условия, от которых может зависеть успешность ответа на вопрос:\n",
        "- от номера раздела в тесте TOEIC ('part')\n",
        "\"\"\"\n",
        "questions.groupby('part').mean()['correct_percent'].sort_values()\n",
        "\n",
        "# По мере продвижения по разделам, видимо, сложность курса возрастает. \n",
        "# 5й раздел содержит максимальное число леций и заданий, однако средняя успеваемость студентов\n",
        "# для него самая низкая."
      ]
    },
    {
      "cell_type": "markdown",
      "id": "2ebda8de",
      "metadata": {
        "id": "2ebda8de"
      },
      "source": [
        "### Исследуем данные \"Лекции\"\n",
        "lectures.csv\n",
        "- **lecture_id** внешний ключ лекции - соответствует content_id\n",
        "- **part:** код темы/раздела *7 тем*\n",
        "- **tag:** кодировка типа лекции, можно использовать для кластеризации лекций *151 тип*\n",
        "- **type_of:** краткое описание цели леции: *'concept', 'solving question', 'intention', 'starter'*\n"
      ]
    },
    {
      "cell_type": "code",
      "execution_count": 92,
      "id": "b7321cdb",
      "metadata": {
        "colab": {
          "base_uri": "https://localhost:8080/"
        },
        "id": "b7321cdb",
        "outputId": "dae5da41-beac-4218-8ee8-0fd294f5e527"
      },
      "outputs": [
        {
          "output_type": "stream",
          "name": "stdout",
          "text": [
            "<class 'pandas.core.frame.DataFrame'>\n",
            "RangeIndex: 418 entries, 0 to 417\n",
            "Data columns (total 4 columns):\n",
            " #   Column      Non-Null Count  Dtype \n",
            "---  ------      --------------  ----- \n",
            " 0   lecture_id  418 non-null    int16 \n",
            " 1   tag         418 non-null    int16 \n",
            " 2   part        418 non-null    int8  \n",
            " 3   type_of     418 non-null    object\n",
            "dtypes: int16(2), int8(1), object(1)\n",
            "memory usage: 5.4+ KB\n"
          ]
        }
      ],
      "source": [
        "lectures = pd.read_csv(path_to_file+'lectures.csv', sep=',',\n",
        "                      dtype = {'lecture_id': 'int16', 'tag': 'int16', \n",
        "                               'part': 'int8', 'type_of': 'object'})\n",
        "lectures.info()"
      ]
    },
    {
      "cell_type": "code",
      "execution_count": 69,
      "id": "f0396a69",
      "metadata": {
        "colab": {
          "base_uri": "https://localhost:8080/",
          "height": 173
        },
        "id": "f0396a69",
        "outputId": "9378ef48-2afa-43be-a2dd-68441245efd4"
      },
      "outputs": [
        {
          "output_type": "display_data",
          "data": {
            "text/plain": [
              "  Column_Name  Num_Unique    Type\n",
              "0     type_of           4  object\n",
              "1        part           7    int8\n",
              "2         tag         151   int16\n",
              "3  lecture_id         418   int16"
            ],
            "text/html": [
              "\n",
              "  <div id=\"df-798c23b1-8462-40b2-a3e7-ed814344df77\">\n",
              "    <div class=\"colab-df-container\">\n",
              "      <div>\n",
              "<style scoped>\n",
              "    .dataframe tbody tr th:only-of-type {\n",
              "        vertical-align: middle;\n",
              "    }\n",
              "\n",
              "    .dataframe tbody tr th {\n",
              "        vertical-align: top;\n",
              "    }\n",
              "\n",
              "    .dataframe thead th {\n",
              "        text-align: right;\n",
              "    }\n",
              "</style>\n",
              "<table border=\"1\" class=\"dataframe\">\n",
              "  <thead>\n",
              "    <tr style=\"text-align: right;\">\n",
              "      <th></th>\n",
              "      <th>Column_Name</th>\n",
              "      <th>Num_Unique</th>\n",
              "      <th>Type</th>\n",
              "    </tr>\n",
              "  </thead>\n",
              "  <tbody>\n",
              "    <tr>\n",
              "      <th>0</th>\n",
              "      <td>type_of</td>\n",
              "      <td>4</td>\n",
              "      <td>object</td>\n",
              "    </tr>\n",
              "    <tr>\n",
              "      <th>1</th>\n",
              "      <td>part</td>\n",
              "      <td>7</td>\n",
              "      <td>int8</td>\n",
              "    </tr>\n",
              "    <tr>\n",
              "      <th>2</th>\n",
              "      <td>tag</td>\n",
              "      <td>151</td>\n",
              "      <td>int16</td>\n",
              "    </tr>\n",
              "    <tr>\n",
              "      <th>3</th>\n",
              "      <td>lecture_id</td>\n",
              "      <td>418</td>\n",
              "      <td>int16</td>\n",
              "    </tr>\n",
              "  </tbody>\n",
              "</table>\n",
              "</div>\n",
              "      <button class=\"colab-df-convert\" onclick=\"convertToInteractive('df-798c23b1-8462-40b2-a3e7-ed814344df77')\"\n",
              "              title=\"Convert this dataframe to an interactive table.\"\n",
              "              style=\"display:none;\">\n",
              "        \n",
              "  <svg xmlns=\"http://www.w3.org/2000/svg\" height=\"24px\"viewBox=\"0 0 24 24\"\n",
              "       width=\"24px\">\n",
              "    <path d=\"M0 0h24v24H0V0z\" fill=\"none\"/>\n",
              "    <path d=\"M18.56 5.44l.94 2.06.94-2.06 2.06-.94-2.06-.94-.94-2.06-.94 2.06-2.06.94zm-11 1L8.5 8.5l.94-2.06 2.06-.94-2.06-.94L8.5 2.5l-.94 2.06-2.06.94zm10 10l.94 2.06.94-2.06 2.06-.94-2.06-.94-.94-2.06-.94 2.06-2.06.94z\"/><path d=\"M17.41 7.96l-1.37-1.37c-.4-.4-.92-.59-1.43-.59-.52 0-1.04.2-1.43.59L10.3 9.45l-7.72 7.72c-.78.78-.78 2.05 0 2.83L4 21.41c.39.39.9.59 1.41.59.51 0 1.02-.2 1.41-.59l7.78-7.78 2.81-2.81c.8-.78.8-2.07 0-2.86zM5.41 20L4 18.59l7.72-7.72 1.47 1.35L5.41 20z\"/>\n",
              "  </svg>\n",
              "      </button>\n",
              "      \n",
              "  <style>\n",
              "    .colab-df-container {\n",
              "      display:flex;\n",
              "      flex-wrap:wrap;\n",
              "      gap: 12px;\n",
              "    }\n",
              "\n",
              "    .colab-df-convert {\n",
              "      background-color: #E8F0FE;\n",
              "      border: none;\n",
              "      border-radius: 50%;\n",
              "      cursor: pointer;\n",
              "      display: none;\n",
              "      fill: #1967D2;\n",
              "      height: 32px;\n",
              "      padding: 0 0 0 0;\n",
              "      width: 32px;\n",
              "    }\n",
              "\n",
              "    .colab-df-convert:hover {\n",
              "      background-color: #E2EBFA;\n",
              "      box-shadow: 0px 1px 2px rgba(60, 64, 67, 0.3), 0px 1px 3px 1px rgba(60, 64, 67, 0.15);\n",
              "      fill: #174EA6;\n",
              "    }\n",
              "\n",
              "    [theme=dark] .colab-df-convert {\n",
              "      background-color: #3B4455;\n",
              "      fill: #D2E3FC;\n",
              "    }\n",
              "\n",
              "    [theme=dark] .colab-df-convert:hover {\n",
              "      background-color: #434B5C;\n",
              "      box-shadow: 0px 1px 3px 1px rgba(0, 0, 0, 0.15);\n",
              "      filter: drop-shadow(0px 1px 2px rgba(0, 0, 0, 0.3));\n",
              "      fill: #FFFFFF;\n",
              "    }\n",
              "  </style>\n",
              "\n",
              "      <script>\n",
              "        const buttonEl =\n",
              "          document.querySelector('#df-798c23b1-8462-40b2-a3e7-ed814344df77 button.colab-df-convert');\n",
              "        buttonEl.style.display =\n",
              "          google.colab.kernel.accessAllowed ? 'block' : 'none';\n",
              "\n",
              "        async function convertToInteractive(key) {\n",
              "          const element = document.querySelector('#df-798c23b1-8462-40b2-a3e7-ed814344df77');\n",
              "          const dataTable =\n",
              "            await google.colab.kernel.invokeFunction('convertToInteractive',\n",
              "                                                     [key], {});\n",
              "          if (!dataTable) return;\n",
              "\n",
              "          const docLinkHtml = 'Like what you see? Visit the ' +\n",
              "            '<a target=\"_blank\" href=https://colab.research.google.com/notebooks/data_table.ipynb>data table notebook</a>'\n",
              "            + ' to learn more about interactive tables.';\n",
              "          element.innerHTML = '';\n",
              "          dataTable['output_type'] = 'display_data';\n",
              "          await google.colab.output.renderOutput(dataTable, element);\n",
              "          const docLink = document.createElement('div');\n",
              "          docLink.innerHTML = docLinkHtml;\n",
              "          element.appendChild(docLink);\n",
              "        }\n",
              "      </script>\n",
              "    </div>\n",
              "  </div>\n",
              "  "
            ]
          },
          "metadata": {}
        }
      ],
      "source": [
        "\"\"\"\n",
        "Исследуем кол-во уникальных значений для разных колонок\n",
        "\"\"\"\n",
        "unique_list_lec = []\n",
        "for col in lectures.columns:\n",
        "    item = (col, lectures[col].nunique(), lectures[col].dtype)\n",
        "    unique_list_lec.append(item)\n",
        "unique_counts_lec = pd.DataFrame(unique_list_lec,\n",
        "                                 columns=['Column_Name', 'Num_Unique', 'Type']\n",
        "                                ).sort_values(by='Num_Unique',  ignore_index=True)\n",
        "display(unique_counts_lec)\n",
        "\n",
        "# Лекции разделены по темам на 7 разделов, больше всего лекций посвящено 5му разделу, затем 6, 2 и 1\n",
        "# С учетом данных по вопросам, можно прийти к заключению, что 5 раздел - самый насыщенный по материалу,\n",
        "# 6 и 1 - более теоретические, а 3 и 4 - более прикладные.\n",
        "# Леции бывают 4 типов: вступление, целеполагание, концептуальное изложение материала и решение задач.\n",
        "# Большинство лекций посвящены теории, немного меньше - решению задач. Доля остальных несущественна.\n",
        "# Есть 151 доп.тип лекций, по которым можно провести кластеризацию"
      ]
    },
    {
      "cell_type": "code",
      "execution_count": 70,
      "id": "f1eef7c6",
      "metadata": {
        "id": "f1eef7c6",
        "colab": {
          "base_uri": "https://localhost:8080/"
        },
        "outputId": "ca9c9de3-e122-4137-b91e-e933f0c52d7e"
      },
      "outputs": [
        {
          "output_type": "execute_result",
          "data": {
            "text/plain": [
              "136    7\n",
              "27     6\n",
              "161    6\n",
              "74     6\n",
              "134    6\n",
              "Name: tag, dtype: int64"
            ]
          },
          "metadata": {},
          "execution_count": 70
        }
      ],
      "source": [
        "lectures['part'].value_counts(normalize=True)\n",
        "lectures['type_of'].value_counts(normalize=True)\n",
        "lectures['tag'].value_counts().head()"
      ]
    },
    {
      "cell_type": "code",
      "execution_count": 71,
      "id": "43de2f65",
      "metadata": {
        "id": "43de2f65",
        "colab": {
          "base_uri": "https://localhost:8080/"
        },
        "outputId": "58dcc1c6-c74a-4cbf-8fc6-45eadf0f6a54"
      },
      "outputs": [
        {
          "output_type": "execute_result",
          "data": {
            "text/plain": [
              "386"
            ]
          },
          "metadata": {},
          "execution_count": 71
        }
      ],
      "source": [
        "\"\"\"\n",
        "Для дальнейшего исследования лекций создадим единую таблицу по их ID с данными Train.\n",
        "\"\"\"\n",
        "l_list = list(train[train['content_type_id'] == 1]['content_id'].unique())\n",
        "len(l_list)\n",
        "\n",
        "# Всего 415 уникальных лекций. Мы берем этот список из файла Train, чтобы иметь правильный порядок данных"
      ]
    },
    {
      "cell_type": "code",
      "execution_count": 72,
      "id": "448e7d0a",
      "metadata": {
        "id": "448e7d0a"
      },
      "outputs": [],
      "source": [
        "\"\"\"\n",
        "Посчитаем количество просмотров лекций для каждого id\n",
        "\"\"\"\n",
        "l_quant = []\n",
        "for l in l_list:\n",
        "    tmp_l = train[(train['content_id'] == l)]['content_id'].count()\n",
        "    l_quant.append(tmp_l)"
      ]
    },
    {
      "cell_type": "code",
      "execution_count": 73,
      "id": "c685e48d",
      "metadata": {
        "id": "c685e48d"
      },
      "outputs": [],
      "source": [
        "\"\"\"\n",
        "Запишем полученные данные в единую таблицу\n",
        "\"\"\"\n",
        "l_ex = pd.DataFrame({'lecture_id': l_list,\n",
        "                        'l_quant': l_quant\n",
        "                       }\n",
        "                      )\n",
        "l_ex = l_ex.astype({'lecture_id': 'int16', 'l_quant': 'int32'})"
      ]
    },
    {
      "cell_type": "code",
      "execution_count": 74,
      "id": "fedc2721",
      "metadata": {
        "id": "fedc2721",
        "colab": {
          "base_uri": "https://localhost:8080/",
          "height": 419
        },
        "outputId": "6ccef427-f81f-4f83-9908-65ade68d7c70"
      },
      "outputs": [
        {
          "output_type": "display_data",
          "data": {
            "text/plain": [
              "     lecture_id  tag  part           type_of  l_quant\n",
              "0            89  159     5           concept      247\n",
              "1           100   70     1           concept      184\n",
              "2           185   45     6           concept      467\n",
              "3           192   79     5  solving question      117\n",
              "4           317  156     5  solving question       94\n",
              "..          ...  ...   ...               ...      ...\n",
              "381       32491  179     5  solving question       22\n",
              "382       32535    8     5  solving question       34\n",
              "383       32570  113     3  solving question       28\n",
              "384       32625  142     2           concept       73\n",
              "385       32736   82     3           concept       91\n",
              "\n",
              "[386 rows x 5 columns]"
            ],
            "text/html": [
              "\n",
              "  <div id=\"df-cf697b1c-31dc-4c8a-a11c-3783f1af50f3\">\n",
              "    <div class=\"colab-df-container\">\n",
              "      <div>\n",
              "<style scoped>\n",
              "    .dataframe tbody tr th:only-of-type {\n",
              "        vertical-align: middle;\n",
              "    }\n",
              "\n",
              "    .dataframe tbody tr th {\n",
              "        vertical-align: top;\n",
              "    }\n",
              "\n",
              "    .dataframe thead th {\n",
              "        text-align: right;\n",
              "    }\n",
              "</style>\n",
              "<table border=\"1\" class=\"dataframe\">\n",
              "  <thead>\n",
              "    <tr style=\"text-align: right;\">\n",
              "      <th></th>\n",
              "      <th>lecture_id</th>\n",
              "      <th>tag</th>\n",
              "      <th>part</th>\n",
              "      <th>type_of</th>\n",
              "      <th>l_quant</th>\n",
              "    </tr>\n",
              "  </thead>\n",
              "  <tbody>\n",
              "    <tr>\n",
              "      <th>0</th>\n",
              "      <td>89</td>\n",
              "      <td>159</td>\n",
              "      <td>5</td>\n",
              "      <td>concept</td>\n",
              "      <td>247</td>\n",
              "    </tr>\n",
              "    <tr>\n",
              "      <th>1</th>\n",
              "      <td>100</td>\n",
              "      <td>70</td>\n",
              "      <td>1</td>\n",
              "      <td>concept</td>\n",
              "      <td>184</td>\n",
              "    </tr>\n",
              "    <tr>\n",
              "      <th>2</th>\n",
              "      <td>185</td>\n",
              "      <td>45</td>\n",
              "      <td>6</td>\n",
              "      <td>concept</td>\n",
              "      <td>467</td>\n",
              "    </tr>\n",
              "    <tr>\n",
              "      <th>3</th>\n",
              "      <td>192</td>\n",
              "      <td>79</td>\n",
              "      <td>5</td>\n",
              "      <td>solving question</td>\n",
              "      <td>117</td>\n",
              "    </tr>\n",
              "    <tr>\n",
              "      <th>4</th>\n",
              "      <td>317</td>\n",
              "      <td>156</td>\n",
              "      <td>5</td>\n",
              "      <td>solving question</td>\n",
              "      <td>94</td>\n",
              "    </tr>\n",
              "    <tr>\n",
              "      <th>...</th>\n",
              "      <td>...</td>\n",
              "      <td>...</td>\n",
              "      <td>...</td>\n",
              "      <td>...</td>\n",
              "      <td>...</td>\n",
              "    </tr>\n",
              "    <tr>\n",
              "      <th>381</th>\n",
              "      <td>32491</td>\n",
              "      <td>179</td>\n",
              "      <td>5</td>\n",
              "      <td>solving question</td>\n",
              "      <td>22</td>\n",
              "    </tr>\n",
              "    <tr>\n",
              "      <th>382</th>\n",
              "      <td>32535</td>\n",
              "      <td>8</td>\n",
              "      <td>5</td>\n",
              "      <td>solving question</td>\n",
              "      <td>34</td>\n",
              "    </tr>\n",
              "    <tr>\n",
              "      <th>383</th>\n",
              "      <td>32570</td>\n",
              "      <td>113</td>\n",
              "      <td>3</td>\n",
              "      <td>solving question</td>\n",
              "      <td>28</td>\n",
              "    </tr>\n",
              "    <tr>\n",
              "      <th>384</th>\n",
              "      <td>32625</td>\n",
              "      <td>142</td>\n",
              "      <td>2</td>\n",
              "      <td>concept</td>\n",
              "      <td>73</td>\n",
              "    </tr>\n",
              "    <tr>\n",
              "      <th>385</th>\n",
              "      <td>32736</td>\n",
              "      <td>82</td>\n",
              "      <td>3</td>\n",
              "      <td>concept</td>\n",
              "      <td>91</td>\n",
              "    </tr>\n",
              "  </tbody>\n",
              "</table>\n",
              "<p>386 rows × 5 columns</p>\n",
              "</div>\n",
              "      <button class=\"colab-df-convert\" onclick=\"convertToInteractive('df-cf697b1c-31dc-4c8a-a11c-3783f1af50f3')\"\n",
              "              title=\"Convert this dataframe to an interactive table.\"\n",
              "              style=\"display:none;\">\n",
              "        \n",
              "  <svg xmlns=\"http://www.w3.org/2000/svg\" height=\"24px\"viewBox=\"0 0 24 24\"\n",
              "       width=\"24px\">\n",
              "    <path d=\"M0 0h24v24H0V0z\" fill=\"none\"/>\n",
              "    <path d=\"M18.56 5.44l.94 2.06.94-2.06 2.06-.94-2.06-.94-.94-2.06-.94 2.06-2.06.94zm-11 1L8.5 8.5l.94-2.06 2.06-.94-2.06-.94L8.5 2.5l-.94 2.06-2.06.94zm10 10l.94 2.06.94-2.06 2.06-.94-2.06-.94-.94-2.06-.94 2.06-2.06.94z\"/><path d=\"M17.41 7.96l-1.37-1.37c-.4-.4-.92-.59-1.43-.59-.52 0-1.04.2-1.43.59L10.3 9.45l-7.72 7.72c-.78.78-.78 2.05 0 2.83L4 21.41c.39.39.9.59 1.41.59.51 0 1.02-.2 1.41-.59l7.78-7.78 2.81-2.81c.8-.78.8-2.07 0-2.86zM5.41 20L4 18.59l7.72-7.72 1.47 1.35L5.41 20z\"/>\n",
              "  </svg>\n",
              "      </button>\n",
              "      \n",
              "  <style>\n",
              "    .colab-df-container {\n",
              "      display:flex;\n",
              "      flex-wrap:wrap;\n",
              "      gap: 12px;\n",
              "    }\n",
              "\n",
              "    .colab-df-convert {\n",
              "      background-color: #E8F0FE;\n",
              "      border: none;\n",
              "      border-radius: 50%;\n",
              "      cursor: pointer;\n",
              "      display: none;\n",
              "      fill: #1967D2;\n",
              "      height: 32px;\n",
              "      padding: 0 0 0 0;\n",
              "      width: 32px;\n",
              "    }\n",
              "\n",
              "    .colab-df-convert:hover {\n",
              "      background-color: #E2EBFA;\n",
              "      box-shadow: 0px 1px 2px rgba(60, 64, 67, 0.3), 0px 1px 3px 1px rgba(60, 64, 67, 0.15);\n",
              "      fill: #174EA6;\n",
              "    }\n",
              "\n",
              "    [theme=dark] .colab-df-convert {\n",
              "      background-color: #3B4455;\n",
              "      fill: #D2E3FC;\n",
              "    }\n",
              "\n",
              "    [theme=dark] .colab-df-convert:hover {\n",
              "      background-color: #434B5C;\n",
              "      box-shadow: 0px 1px 3px 1px rgba(0, 0, 0, 0.15);\n",
              "      filter: drop-shadow(0px 1px 2px rgba(0, 0, 0, 0.3));\n",
              "      fill: #FFFFFF;\n",
              "    }\n",
              "  </style>\n",
              "\n",
              "      <script>\n",
              "        const buttonEl =\n",
              "          document.querySelector('#df-cf697b1c-31dc-4c8a-a11c-3783f1af50f3 button.colab-df-convert');\n",
              "        buttonEl.style.display =\n",
              "          google.colab.kernel.accessAllowed ? 'block' : 'none';\n",
              "\n",
              "        async function convertToInteractive(key) {\n",
              "          const element = document.querySelector('#df-cf697b1c-31dc-4c8a-a11c-3783f1af50f3');\n",
              "          const dataTable =\n",
              "            await google.colab.kernel.invokeFunction('convertToInteractive',\n",
              "                                                     [key], {});\n",
              "          if (!dataTable) return;\n",
              "\n",
              "          const docLinkHtml = 'Like what you see? Visit the ' +\n",
              "            '<a target=\"_blank\" href=https://colab.research.google.com/notebooks/data_table.ipynb>data table notebook</a>'\n",
              "            + ' to learn more about interactive tables.';\n",
              "          element.innerHTML = '';\n",
              "          dataTable['output_type'] = 'display_data';\n",
              "          await google.colab.output.renderOutput(dataTable, element);\n",
              "          const docLink = document.createElement('div');\n",
              "          docLink.innerHTML = docLinkHtml;\n",
              "          element.appendChild(docLink);\n",
              "        }\n",
              "      </script>\n",
              "    </div>\n",
              "  </div>\n",
              "  "
            ]
          },
          "metadata": {}
        }
      ],
      "source": [
        "\"\"\"\n",
        "Внесем полученные данные в таблицу lectures (пересечением)\n",
        "\"\"\"\n",
        "lectures = pd.merge(lectures, l_ex, how='inner')\n",
        "display(lectures)"
      ]
    },
    {
      "cell_type": "code",
      "execution_count": 75,
      "id": "a5bf2eca",
      "metadata": {
        "scrolled": true,
        "id": "a5bf2eca",
        "colab": {
          "base_uri": "https://localhost:8080/",
          "height": 204
        },
        "outputId": "70ab7488-f148-4341-f047-bb81b124d31e"
      },
      "outputs": [
        {
          "output_type": "execute_result",
          "data": {
            "text/plain": [
              "     lecture_id  tag  part           type_of  l_quant\n",
              "116       10688   39     7           concept     1457\n",
              "42         3852  161     4  solving question      627\n",
              "5           335  114     2           concept      622\n",
              "59         5694  140     2           concept      472\n",
              "2           185   45     6           concept      467"
            ],
            "text/html": [
              "\n",
              "  <div id=\"df-89b6d601-b9fb-447f-b2b7-ce8bda7b8993\">\n",
              "    <div class=\"colab-df-container\">\n",
              "      <div>\n",
              "<style scoped>\n",
              "    .dataframe tbody tr th:only-of-type {\n",
              "        vertical-align: middle;\n",
              "    }\n",
              "\n",
              "    .dataframe tbody tr th {\n",
              "        vertical-align: top;\n",
              "    }\n",
              "\n",
              "    .dataframe thead th {\n",
              "        text-align: right;\n",
              "    }\n",
              "</style>\n",
              "<table border=\"1\" class=\"dataframe\">\n",
              "  <thead>\n",
              "    <tr style=\"text-align: right;\">\n",
              "      <th></th>\n",
              "      <th>lecture_id</th>\n",
              "      <th>tag</th>\n",
              "      <th>part</th>\n",
              "      <th>type_of</th>\n",
              "      <th>l_quant</th>\n",
              "    </tr>\n",
              "  </thead>\n",
              "  <tbody>\n",
              "    <tr>\n",
              "      <th>116</th>\n",
              "      <td>10688</td>\n",
              "      <td>39</td>\n",
              "      <td>7</td>\n",
              "      <td>concept</td>\n",
              "      <td>1457</td>\n",
              "    </tr>\n",
              "    <tr>\n",
              "      <th>42</th>\n",
              "      <td>3852</td>\n",
              "      <td>161</td>\n",
              "      <td>4</td>\n",
              "      <td>solving question</td>\n",
              "      <td>627</td>\n",
              "    </tr>\n",
              "    <tr>\n",
              "      <th>5</th>\n",
              "      <td>335</td>\n",
              "      <td>114</td>\n",
              "      <td>2</td>\n",
              "      <td>concept</td>\n",
              "      <td>622</td>\n",
              "    </tr>\n",
              "    <tr>\n",
              "      <th>59</th>\n",
              "      <td>5694</td>\n",
              "      <td>140</td>\n",
              "      <td>2</td>\n",
              "      <td>concept</td>\n",
              "      <td>472</td>\n",
              "    </tr>\n",
              "    <tr>\n",
              "      <th>2</th>\n",
              "      <td>185</td>\n",
              "      <td>45</td>\n",
              "      <td>6</td>\n",
              "      <td>concept</td>\n",
              "      <td>467</td>\n",
              "    </tr>\n",
              "  </tbody>\n",
              "</table>\n",
              "</div>\n",
              "      <button class=\"colab-df-convert\" onclick=\"convertToInteractive('df-89b6d601-b9fb-447f-b2b7-ce8bda7b8993')\"\n",
              "              title=\"Convert this dataframe to an interactive table.\"\n",
              "              style=\"display:none;\">\n",
              "        \n",
              "  <svg xmlns=\"http://www.w3.org/2000/svg\" height=\"24px\"viewBox=\"0 0 24 24\"\n",
              "       width=\"24px\">\n",
              "    <path d=\"M0 0h24v24H0V0z\" fill=\"none\"/>\n",
              "    <path d=\"M18.56 5.44l.94 2.06.94-2.06 2.06-.94-2.06-.94-.94-2.06-.94 2.06-2.06.94zm-11 1L8.5 8.5l.94-2.06 2.06-.94-2.06-.94L8.5 2.5l-.94 2.06-2.06.94zm10 10l.94 2.06.94-2.06 2.06-.94-2.06-.94-.94-2.06-.94 2.06-2.06.94z\"/><path d=\"M17.41 7.96l-1.37-1.37c-.4-.4-.92-.59-1.43-.59-.52 0-1.04.2-1.43.59L10.3 9.45l-7.72 7.72c-.78.78-.78 2.05 0 2.83L4 21.41c.39.39.9.59 1.41.59.51 0 1.02-.2 1.41-.59l7.78-7.78 2.81-2.81c.8-.78.8-2.07 0-2.86zM5.41 20L4 18.59l7.72-7.72 1.47 1.35L5.41 20z\"/>\n",
              "  </svg>\n",
              "      </button>\n",
              "      \n",
              "  <style>\n",
              "    .colab-df-container {\n",
              "      display:flex;\n",
              "      flex-wrap:wrap;\n",
              "      gap: 12px;\n",
              "    }\n",
              "\n",
              "    .colab-df-convert {\n",
              "      background-color: #E8F0FE;\n",
              "      border: none;\n",
              "      border-radius: 50%;\n",
              "      cursor: pointer;\n",
              "      display: none;\n",
              "      fill: #1967D2;\n",
              "      height: 32px;\n",
              "      padding: 0 0 0 0;\n",
              "      width: 32px;\n",
              "    }\n",
              "\n",
              "    .colab-df-convert:hover {\n",
              "      background-color: #E2EBFA;\n",
              "      box-shadow: 0px 1px 2px rgba(60, 64, 67, 0.3), 0px 1px 3px 1px rgba(60, 64, 67, 0.15);\n",
              "      fill: #174EA6;\n",
              "    }\n",
              "\n",
              "    [theme=dark] .colab-df-convert {\n",
              "      background-color: #3B4455;\n",
              "      fill: #D2E3FC;\n",
              "    }\n",
              "\n",
              "    [theme=dark] .colab-df-convert:hover {\n",
              "      background-color: #434B5C;\n",
              "      box-shadow: 0px 1px 3px 1px rgba(0, 0, 0, 0.15);\n",
              "      filter: drop-shadow(0px 1px 2px rgba(0, 0, 0, 0.3));\n",
              "      fill: #FFFFFF;\n",
              "    }\n",
              "  </style>\n",
              "\n",
              "      <script>\n",
              "        const buttonEl =\n",
              "          document.querySelector('#df-89b6d601-b9fb-447f-b2b7-ce8bda7b8993 button.colab-df-convert');\n",
              "        buttonEl.style.display =\n",
              "          google.colab.kernel.accessAllowed ? 'block' : 'none';\n",
              "\n",
              "        async function convertToInteractive(key) {\n",
              "          const element = document.querySelector('#df-89b6d601-b9fb-447f-b2b7-ce8bda7b8993');\n",
              "          const dataTable =\n",
              "            await google.colab.kernel.invokeFunction('convertToInteractive',\n",
              "                                                     [key], {});\n",
              "          if (!dataTable) return;\n",
              "\n",
              "          const docLinkHtml = 'Like what you see? Visit the ' +\n",
              "            '<a target=\"_blank\" href=https://colab.research.google.com/notebooks/data_table.ipynb>data table notebook</a>'\n",
              "            + ' to learn more about interactive tables.';\n",
              "          element.innerHTML = '';\n",
              "          dataTable['output_type'] = 'display_data';\n",
              "          await google.colab.output.renderOutput(dataTable, element);\n",
              "          const docLink = document.createElement('div');\n",
              "          docLink.innerHTML = docLinkHtml;\n",
              "          element.appendChild(docLink);\n",
              "        }\n",
              "      </script>\n",
              "    </div>\n",
              "  </div>\n",
              "  "
            ]
          },
          "metadata": {},
          "execution_count": 75
        }
      ],
      "source": [
        "\"\"\"\n",
        "Общий рейтинг популярности для лекций\n",
        "\"\"\"\n",
        "lectures.sort_values(by=['l_quant'], ascending=False).head()"
      ]
    },
    {
      "cell_type": "code",
      "execution_count": 76,
      "id": "8a72cac0",
      "metadata": {
        "id": "8a72cac0",
        "colab": {
          "base_uri": "https://localhost:8080/"
        },
        "outputId": "030670fe-64c2-4ca6-bee5-2d405074d44b"
      },
      "outputs": [
        {
          "output_type": "execute_result",
          "data": {
            "text/plain": [
              "part\n",
              "5    12811\n",
              "2     5878\n",
              "6     5250\n",
              "1     3261\n",
              "7     2878\n",
              "4     2091\n",
              "3     1630\n",
              "Name: l_quant, dtype: int32"
            ]
          },
          "metadata": {},
          "execution_count": 76
        }
      ],
      "source": [
        "\"\"\"\n",
        "Рейтинг популярности для лекций, в зависимости от раздела\n",
        "\"\"\"\n",
        "lectures.groupby('part').sum()['l_quant'].sort_values(ascending=False)"
      ]
    },
    {
      "cell_type": "code",
      "execution_count": 77,
      "id": "70a3395e",
      "metadata": {
        "id": "70a3395e",
        "colab": {
          "base_uri": "https://localhost:8080/"
        },
        "outputId": "034fdb3e-f595-4706-bad6-170efdec8142"
      },
      "outputs": [
        {
          "output_type": "stream",
          "name": "stdout",
          "text": [
            "1 69.38297872340425\n",
            "2 104.96428571428571\n",
            "3 85.78947368421052\n",
            "4 67.45161290322581\n",
            "5 90.8581560283688\n",
            "6 80.76923076923077\n",
            "7 106.5925925925926\n"
          ]
        }
      ],
      "source": [
        "\"\"\"\n",
        "Рейтинг относительной популярности лекций по разделам\n",
        "\"\"\"\n",
        "for part in range(1, 8):\n",
        "    print(part, lectures.groupby('part').sum()['l_quant'].sort_values(ascending=False)[part]/lectures['part'].value_counts()[part])\n",
        "    \n",
        "# Наибольшее число просмотров имеет лекция из 7го раздела, \n",
        "# при этом самая высокая средневзвешенная популярность у лекций 2 раздела"
      ]
    },
    {
      "cell_type": "code",
      "execution_count": 78,
      "id": "80d5d564",
      "metadata": {
        "id": "80d5d564",
        "colab": {
          "base_uri": "https://localhost:8080/"
        },
        "outputId": "4ee7d30c-c1b9-451b-a7f0-32511304dd05"
      },
      "outputs": [
        {
          "output_type": "execute_result",
          "data": {
            "text/plain": [
              "tag\n",
              "39     1457\n",
              "161     980\n",
              "27      866\n",
              "62      859\n",
              "1       754\n",
              "Name: l_quant, dtype: int32"
            ]
          },
          "metadata": {},
          "execution_count": 78
        }
      ],
      "source": [
        "\"\"\"\n",
        "Рейтинг популярности для лекций, в зависимости от тега лекции\n",
        "\"\"\"\n",
        "lectures.groupby('tag').sum()['l_quant'].sort_values(ascending=False).head()"
      ]
    },
    {
      "cell_type": "markdown",
      "id": "a43ebb85",
      "metadata": {
        "id": "a43ebb85"
      },
      "source": [
        "### Построим новую таблицу для доп анализа отдельных разделов"
      ]
    },
    {
      "cell_type": "code",
      "execution_count": 79,
      "id": "2a622ca1",
      "metadata": {
        "id": "2a622ca1"
      },
      "outputs": [],
      "source": [
        "\"\"\"\n",
        "Столбец part\n",
        "\"\"\"\n",
        "part_list = list(range(1, 8))"
      ]
    },
    {
      "cell_type": "code",
      "execution_count": 80,
      "id": "16730217",
      "metadata": {
        "id": "16730217"
      },
      "outputs": [],
      "source": [
        "\"\"\"\n",
        "Столбец кол-во вопросов в каждом разделе\n",
        "\"\"\"\n",
        "ques_quant_p = [questions[questions.part == p]['question_id'].count() for p in range(1,8)]"
      ]
    },
    {
      "cell_type": "code",
      "execution_count": 81,
      "id": "fea05b99",
      "metadata": {
        "id": "fea05b99"
      },
      "outputs": [],
      "source": [
        "\"\"\"\n",
        "Столбец кол-во ответов в каждом разделе\n",
        "\"\"\"\n",
        "ans_quant_p = [questions[questions.part == p]['q_quant'].sum() for p in range(1,8)]"
      ]
    },
    {
      "cell_type": "code",
      "execution_count": 82,
      "id": "1f87f052",
      "metadata": {
        "id": "1f87f052"
      },
      "outputs": [],
      "source": [
        "\"\"\"\n",
        "Столбец кол-во правильных ответов в каждом разделе\n",
        "\"\"\"\n",
        "right_quant_p = [questions[questions.part == p]['correct_quant'].sum() for p in range(1,8)]"
      ]
    },
    {
      "cell_type": "code",
      "execution_count": 83,
      "id": "408e3a6f",
      "metadata": {
        "id": "408e3a6f"
      },
      "outputs": [],
      "source": [
        "\"\"\"\n",
        "Столбец относительное кол-во правильных ответов в каждом разделе\n",
        "\"\"\"\n",
        "right_perc_p = [round(questions[questions.part == p]['correct_quant'].sum()/questions[questions.part == p]['q_quant'].sum(), 3) for p in range(1,8)]"
      ]
    },
    {
      "cell_type": "code",
      "execution_count": 84,
      "id": "2711561f",
      "metadata": {
        "id": "2711561f"
      },
      "outputs": [],
      "source": [
        "\"\"\"\n",
        "Столбец кол-во лекций в каждом разделе\n",
        "\"\"\"\n",
        "lec_quant_p = [lectures[lectures.part == p]['lecture_id'].count() for p in range(1,8)]"
      ]
    },
    {
      "cell_type": "code",
      "execution_count": 85,
      "id": "bedf8e4c",
      "metadata": {
        "id": "bedf8e4c"
      },
      "outputs": [],
      "source": [
        "\"\"\"\n",
        "Столбец кол-во просмотров лекций в каждом разделе\n",
        "\"\"\"\n",
        "lec_view_p = [lectures[lectures.part == p]['l_quant'].sum() for p in range(1,8)]"
      ]
    },
    {
      "cell_type": "code",
      "execution_count": 86,
      "id": "6b7496c8",
      "metadata": {
        "id": "6b7496c8"
      },
      "outputs": [],
      "source": [
        "\"\"\"\n",
        "Популярность лекций в каждом разделе\n",
        "\"\"\"\n",
        "lec_pop_p = [lectures[lectures.part == p]['l_quant'].sum()/lectures[lectures.part == p]['lecture_id'].count() for p in range(1,8)]"
      ]
    },
    {
      "cell_type": "code",
      "execution_count": 87,
      "id": "d63a1ac3",
      "metadata": {
        "id": "d63a1ac3"
      },
      "outputs": [],
      "source": [
        "\"\"\"\n",
        "Нормализованная популярность лекций в каждом разделе\n",
        "\"\"\"\n",
        "norm_lec_pop_p = [round(pop / max(lec_pop_p), 3) for pop in lec_pop_p]"
      ]
    },
    {
      "cell_type": "code",
      "execution_count": 88,
      "id": "d5bf42cf",
      "metadata": {
        "id": "d5bf42cf"
      },
      "outputs": [],
      "source": [
        "\"\"\"\n",
        "Запишем полученные данные в единую таблицу\n",
        "\"\"\"\n",
        "part_df = pd.DataFrame({'part': part_list,\n",
        "                        'ques_quant_p': ques_quant_p,\n",
        "                        'ans_quant_p': ans_quant_p,\n",
        "                        'right_quant_p': right_quant_p,\n",
        "                        'right_perc_p': right_perc_p,\n",
        "                        'lec_quant_p': lec_quant_p,\n",
        "                        'lec_view_p': lec_view_p,\n",
        "                        'norm_lec_pop_p': norm_lec_pop_p\n",
        "                       }\n",
        "                      )\n",
        "part_df = part_df.astype({'part': 'int8',\n",
        "                        'ques_quant_p': 'int16',\n",
        "                        'ans_quant_p': 'int64',\n",
        "                        'right_quant_p': 'int64',\n",
        "                        'right_perc_p': 'float32',\n",
        "                        'lec_quant_p': 'int16',\n",
        "                        'lec_view_p': 'int32',\n",
        "                        'norm_lec_pop_p': 'float32'\n",
        "                       })"
      ]
    },
    {
      "cell_type": "code",
      "execution_count": 89,
      "id": "d1ba4f80",
      "metadata": {
        "id": "d1ba4f80",
        "outputId": "41a22d23-a575-478c-eb33-1cf29f63ef91",
        "colab": {
          "base_uri": "https://localhost:8080/",
          "height": 266
        }
      },
      "outputs": [
        {
          "output_type": "execute_result",
          "data": {
            "text/plain": [
              "   part  ques_quant_p  ans_quant_p  right_quant_p  right_perc_p  lec_quant_p  \\\n",
              "0     1           905        74087          54474         0.735           47   \n",
              "1     2          1639       200416         141688         0.707           56   \n",
              "2     3          1469        86026          59478         0.691           19   \n",
              "5     6          1207       114244          74224         0.650           65   \n",
              "6     7          1102        51909          33556         0.646           27   \n",
              "3     4          1382        80782          50058         0.620           31   \n",
              "4     5          5467       420202         255195         0.607          141   \n",
              "\n",
              "   lec_view_p  norm_lec_pop_p  \n",
              "0        3261           0.651  \n",
              "1        5878           0.985  \n",
              "2        1630           0.805  \n",
              "5        5250           0.758  \n",
              "6        2878           1.000  \n",
              "3        2091           0.633  \n",
              "4       12811           0.852  "
            ],
            "text/html": [
              "\n",
              "  <div id=\"df-8b4df25e-0919-4ab1-9beb-df7860e9218e\">\n",
              "    <div class=\"colab-df-container\">\n",
              "      <div>\n",
              "<style scoped>\n",
              "    .dataframe tbody tr th:only-of-type {\n",
              "        vertical-align: middle;\n",
              "    }\n",
              "\n",
              "    .dataframe tbody tr th {\n",
              "        vertical-align: top;\n",
              "    }\n",
              "\n",
              "    .dataframe thead th {\n",
              "        text-align: right;\n",
              "    }\n",
              "</style>\n",
              "<table border=\"1\" class=\"dataframe\">\n",
              "  <thead>\n",
              "    <tr style=\"text-align: right;\">\n",
              "      <th></th>\n",
              "      <th>part</th>\n",
              "      <th>ques_quant_p</th>\n",
              "      <th>ans_quant_p</th>\n",
              "      <th>right_quant_p</th>\n",
              "      <th>right_perc_p</th>\n",
              "      <th>lec_quant_p</th>\n",
              "      <th>lec_view_p</th>\n",
              "      <th>norm_lec_pop_p</th>\n",
              "    </tr>\n",
              "  </thead>\n",
              "  <tbody>\n",
              "    <tr>\n",
              "      <th>0</th>\n",
              "      <td>1</td>\n",
              "      <td>905</td>\n",
              "      <td>74087</td>\n",
              "      <td>54474</td>\n",
              "      <td>0.735</td>\n",
              "      <td>47</td>\n",
              "      <td>3261</td>\n",
              "      <td>0.651</td>\n",
              "    </tr>\n",
              "    <tr>\n",
              "      <th>1</th>\n",
              "      <td>2</td>\n",
              "      <td>1639</td>\n",
              "      <td>200416</td>\n",
              "      <td>141688</td>\n",
              "      <td>0.707</td>\n",
              "      <td>56</td>\n",
              "      <td>5878</td>\n",
              "      <td>0.985</td>\n",
              "    </tr>\n",
              "    <tr>\n",
              "      <th>2</th>\n",
              "      <td>3</td>\n",
              "      <td>1469</td>\n",
              "      <td>86026</td>\n",
              "      <td>59478</td>\n",
              "      <td>0.691</td>\n",
              "      <td>19</td>\n",
              "      <td>1630</td>\n",
              "      <td>0.805</td>\n",
              "    </tr>\n",
              "    <tr>\n",
              "      <th>5</th>\n",
              "      <td>6</td>\n",
              "      <td>1207</td>\n",
              "      <td>114244</td>\n",
              "      <td>74224</td>\n",
              "      <td>0.650</td>\n",
              "      <td>65</td>\n",
              "      <td>5250</td>\n",
              "      <td>0.758</td>\n",
              "    </tr>\n",
              "    <tr>\n",
              "      <th>6</th>\n",
              "      <td>7</td>\n",
              "      <td>1102</td>\n",
              "      <td>51909</td>\n",
              "      <td>33556</td>\n",
              "      <td>0.646</td>\n",
              "      <td>27</td>\n",
              "      <td>2878</td>\n",
              "      <td>1.000</td>\n",
              "    </tr>\n",
              "    <tr>\n",
              "      <th>3</th>\n",
              "      <td>4</td>\n",
              "      <td>1382</td>\n",
              "      <td>80782</td>\n",
              "      <td>50058</td>\n",
              "      <td>0.620</td>\n",
              "      <td>31</td>\n",
              "      <td>2091</td>\n",
              "      <td>0.633</td>\n",
              "    </tr>\n",
              "    <tr>\n",
              "      <th>4</th>\n",
              "      <td>5</td>\n",
              "      <td>5467</td>\n",
              "      <td>420202</td>\n",
              "      <td>255195</td>\n",
              "      <td>0.607</td>\n",
              "      <td>141</td>\n",
              "      <td>12811</td>\n",
              "      <td>0.852</td>\n",
              "    </tr>\n",
              "  </tbody>\n",
              "</table>\n",
              "</div>\n",
              "      <button class=\"colab-df-convert\" onclick=\"convertToInteractive('df-8b4df25e-0919-4ab1-9beb-df7860e9218e')\"\n",
              "              title=\"Convert this dataframe to an interactive table.\"\n",
              "              style=\"display:none;\">\n",
              "        \n",
              "  <svg xmlns=\"http://www.w3.org/2000/svg\" height=\"24px\"viewBox=\"0 0 24 24\"\n",
              "       width=\"24px\">\n",
              "    <path d=\"M0 0h24v24H0V0z\" fill=\"none\"/>\n",
              "    <path d=\"M18.56 5.44l.94 2.06.94-2.06 2.06-.94-2.06-.94-.94-2.06-.94 2.06-2.06.94zm-11 1L8.5 8.5l.94-2.06 2.06-.94-2.06-.94L8.5 2.5l-.94 2.06-2.06.94zm10 10l.94 2.06.94-2.06 2.06-.94-2.06-.94-.94-2.06-.94 2.06-2.06.94z\"/><path d=\"M17.41 7.96l-1.37-1.37c-.4-.4-.92-.59-1.43-.59-.52 0-1.04.2-1.43.59L10.3 9.45l-7.72 7.72c-.78.78-.78 2.05 0 2.83L4 21.41c.39.39.9.59 1.41.59.51 0 1.02-.2 1.41-.59l7.78-7.78 2.81-2.81c.8-.78.8-2.07 0-2.86zM5.41 20L4 18.59l7.72-7.72 1.47 1.35L5.41 20z\"/>\n",
              "  </svg>\n",
              "      </button>\n",
              "      \n",
              "  <style>\n",
              "    .colab-df-container {\n",
              "      display:flex;\n",
              "      flex-wrap:wrap;\n",
              "      gap: 12px;\n",
              "    }\n",
              "\n",
              "    .colab-df-convert {\n",
              "      background-color: #E8F0FE;\n",
              "      border: none;\n",
              "      border-radius: 50%;\n",
              "      cursor: pointer;\n",
              "      display: none;\n",
              "      fill: #1967D2;\n",
              "      height: 32px;\n",
              "      padding: 0 0 0 0;\n",
              "      width: 32px;\n",
              "    }\n",
              "\n",
              "    .colab-df-convert:hover {\n",
              "      background-color: #E2EBFA;\n",
              "      box-shadow: 0px 1px 2px rgba(60, 64, 67, 0.3), 0px 1px 3px 1px rgba(60, 64, 67, 0.15);\n",
              "      fill: #174EA6;\n",
              "    }\n",
              "\n",
              "    [theme=dark] .colab-df-convert {\n",
              "      background-color: #3B4455;\n",
              "      fill: #D2E3FC;\n",
              "    }\n",
              "\n",
              "    [theme=dark] .colab-df-convert:hover {\n",
              "      background-color: #434B5C;\n",
              "      box-shadow: 0px 1px 3px 1px rgba(0, 0, 0, 0.15);\n",
              "      filter: drop-shadow(0px 1px 2px rgba(0, 0, 0, 0.3));\n",
              "      fill: #FFFFFF;\n",
              "    }\n",
              "  </style>\n",
              "\n",
              "      <script>\n",
              "        const buttonEl =\n",
              "          document.querySelector('#df-8b4df25e-0919-4ab1-9beb-df7860e9218e button.colab-df-convert');\n",
              "        buttonEl.style.display =\n",
              "          google.colab.kernel.accessAllowed ? 'block' : 'none';\n",
              "\n",
              "        async function convertToInteractive(key) {\n",
              "          const element = document.querySelector('#df-8b4df25e-0919-4ab1-9beb-df7860e9218e');\n",
              "          const dataTable =\n",
              "            await google.colab.kernel.invokeFunction('convertToInteractive',\n",
              "                                                     [key], {});\n",
              "          if (!dataTable) return;\n",
              "\n",
              "          const docLinkHtml = 'Like what you see? Visit the ' +\n",
              "            '<a target=\"_blank\" href=https://colab.research.google.com/notebooks/data_table.ipynb>data table notebook</a>'\n",
              "            + ' to learn more about interactive tables.';\n",
              "          element.innerHTML = '';\n",
              "          dataTable['output_type'] = 'display_data';\n",
              "          await google.colab.output.renderOutput(dataTable, element);\n",
              "          const docLink = document.createElement('div');\n",
              "          docLink.innerHTML = docLinkHtml;\n",
              "          element.appendChild(docLink);\n",
              "        }\n",
              "      </script>\n",
              "    </div>\n",
              "  </div>\n",
              "  "
            ]
          },
          "metadata": {},
          "execution_count": 89
        }
      ],
      "source": [
        "part_df.sort_values(by='right_perc_p', ascending=False)"
      ]
    },
    {
      "cell_type": "markdown",
      "id": "33046965",
      "metadata": {
        "id": "33046965"
      },
      "source": [
        "### Основные выводы по разделу 3:\n",
        " - Часть вопросов объединены по bundle_id в блоки до 5 вопросов, хотя большинство представлены по одиночке\n",
        " - Лекции бывают 4 типов: вступление, целеполагание, концептуальное изложение материала и решение задач.\n",
        " - Задачи и лекции разделены по темам на 7 разделов\n",
        " - Большинство лекций по теории, меньшее кол-во - решению задач. Доля остальных несущественна (менее 1%).\n",
        " - Наибольшее число просмотров имеет лекция из 7го раздела.\n",
        " - Самая высокая средневзвешенная популярность у лекций 2 раздела.\n",
        " - 5 раздел - самый насыщенный по материалу, 6 и 1 - более теоретические, а 3 и 4 - более прикладные.\n",
        " - По мере продвижения по разделам, видимо, сложность курса возрастает. \n",
        " - 5й раздел содержит максимальное число лекций и заданий, однако средняя успеваемость студентов для него самая низкая."
      ]
    }
  ],
  "metadata": {
    "kernelspec": {
      "display_name": "Python 3 (ipykernel)",
      "language": "python",
      "name": "python3"
    },
    "language_info": {
      "codemirror_mode": {
        "name": "ipython",
        "version": 3
      },
      "file_extension": ".py",
      "mimetype": "text/x-python",
      "name": "python",
      "nbconvert_exporter": "python",
      "pygments_lexer": "ipython3",
      "version": "3.9.12"
    },
    "colab": {
      "provenance": [],
      "collapsed_sections": [
        "76754982",
        "33046965"
      ],
      "include_colab_link": true
    }
  },
  "nbformat": 4,
  "nbformat_minor": 5
}